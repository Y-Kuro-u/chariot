{
 "cells": [
  {
   "cell_type": "markdown",
   "metadata": {},
   "source": [
    "# Movie Review Sentiment Analysis\n",
    "\n",
    "Let's try the sentiment analysis by using [chariot](https://github.com/chakki-works/chariot) and [Tensorflow](https://www.tensorflow.org/).\n",
    "\n",
    "1. Download the [Movie Review Data](https://github.com/chakki-works/chazutsu/tree/master/chazutsu#movie-review-data).\n",
    "2. Preprocess the review text by chariot.\n",
    "3. Load the pretrained word embedding [GloVe](https://nlp.stanford.edu/projects/glove/).\n",
    "4. Make model by TensorFlow (use `tf.keras`).\n",
    "5. Train & evaluate the model.\n"
   ]
  },
  {
   "cell_type": "markdown",
   "metadata": {},
   "source": [
    "## Prepare the packages"
   ]
  },
  {
   "cell_type": "code",
   "execution_count": 1,
   "metadata": {},
   "outputs": [],
   "source": [
    "%load_ext autoreload\n",
    "%autoreload 2\n",
    "\n",
    "\n",
    "import os\n",
    "import sys\n",
    "from pathlib import Path\n",
    "\n",
    "\n",
    "def set_path():\n",
    "    if \"../\" not in sys.path:\n",
    "        sys.path.append(\"../\")\n",
    "    root_dir = Path.cwd()\n",
    "    return root_dir\n",
    "\n",
    "ROOT_DIR = set_path()"
   ]
  },
  {
   "cell_type": "markdown",
   "metadata": {},
   "source": [
    "## Download the Movie Review Data"
   ]
  },
  {
   "cell_type": "code",
   "execution_count": 2,
   "metadata": {
    "scrolled": true
   },
   "outputs": [
    {
     "name": "stdout",
     "output_type": "stream",
     "text": [
      "Read resource from the existed resource(if you want to retry, set force=True).\n"
     ]
    }
   ],
   "source": [
    "import chazutsu\n",
    "from chariot.storage import Storage\n",
    "\n",
    "storage = Storage.setup_data_dir(ROOT_DIR)\n",
    "r = chazutsu.datasets.MovieReview.polarity().download(storage.data_path(\"raw\"))"
   ]
  },
  {
   "cell_type": "code",
   "execution_count": 3,
   "metadata": {},
   "outputs": [
    {
     "data": {
      "text/html": [
       "<div>\n",
       "<style scoped>\n",
       "    .dataframe tbody tr th:only-of-type {\n",
       "        vertical-align: middle;\n",
       "    }\n",
       "\n",
       "    .dataframe tbody tr th {\n",
       "        vertical-align: top;\n",
       "    }\n",
       "\n",
       "    .dataframe thead th {\n",
       "        text-align: right;\n",
       "    }\n",
       "</style>\n",
       "<table border=\"1\" class=\"dataframe\">\n",
       "  <thead>\n",
       "    <tr style=\"text-align: right;\">\n",
       "      <th></th>\n",
       "      <th>polarity</th>\n",
       "      <th>review</th>\n",
       "    </tr>\n",
       "  </thead>\n",
       "  <tbody>\n",
       "    <tr>\n",
       "      <th>0</th>\n",
       "      <td>0</td>\n",
       "      <td>synopsis : an aging master art thief , his sup...</td>\n",
       "    </tr>\n",
       "    <tr>\n",
       "      <th>1</th>\n",
       "      <td>0</td>\n",
       "      <td>plot : a separated , glamorous , hollywood cou...</td>\n",
       "    </tr>\n",
       "    <tr>\n",
       "      <th>2</th>\n",
       "      <td>0</td>\n",
       "      <td>a friend invites you to a movie . this film wo...</td>\n",
       "    </tr>\n",
       "  </tbody>\n",
       "</table>\n",
       "</div>"
      ],
      "text/plain": [
       "   polarity                                             review\n",
       "0         0  synopsis : an aging master art thief , his sup...\n",
       "1         0  plot : a separated , glamorous , hollywood cou...\n",
       "2         0  a friend invites you to a movie . this film wo..."
      ]
     },
     "execution_count": 3,
     "metadata": {},
     "output_type": "execute_result"
    }
   ],
   "source": [
    "train_dataset = storage.chazutsu(r).train_dataset\n",
    "if len(train_dataset.fields) == 0:\n",
    "    train_dataset.fields = [\"polarity\", \"review\"]\n",
    "train_dataset.to_dataframe().head(3)"
   ]
  },
  {
   "cell_type": "markdown",
   "metadata": {},
   "source": [
    "## Preprocess the review text by chariot."
   ]
  },
  {
   "cell_type": "code",
   "execution_count": 4,
   "metadata": {},
   "outputs": [
    {
     "data": {
      "text/plain": [
       "Preprocessor(indexer=Indexer(begin_of_seq=None, copy=True, end_of_seq=None, max_df=1.0, min_df=1,\n",
       "    padding=None, size=-1, unknown=None),\n",
       "       n_jobs=1,\n",
       "       text_transformers=[UnicodeNormalizer(copy=True, form='NFKC')],\n",
       "       token_transformers=[StopwordFilter(copy=True, lang='en')],\n",
       "       tokenizer=Tokenizer(copy=True, lang='en'))"
      ]
     },
     "execution_count": 4,
     "metadata": {},
     "output_type": "execute_result"
    }
   ],
   "source": [
    "import chariot.transformer as ct\n",
    "from chariot.preprocessor import Preprocessor\n",
    "\n",
    "\n",
    "preprocessor = Preprocessor(\n",
    "                    tokenizer=ct.Tokenizer(\"en\"),\n",
    "                    text_transformers=[ct.text.UnicodeNormalizer()],\n",
    "                    token_transformers=[ct.token.StopwordFilter(\"en\")],\n",
    "                    indexer=ct.Indexer())\n",
    "\n",
    "preprocessor.fit(train_dataset.get(\"review\"))"
   ]
  },
  {
   "cell_type": "code",
   "execution_count": 5,
   "metadata": {},
   "outputs": [
    {
     "data": {
      "text/plain": [
       "['__PAD__',\n",
       " '__UNK__',\n",
       " '__BOS__',\n",
       " '__EOS__',\n",
       " 'character',\n",
       " ';',\n",
       " 'characters',\n",
       " '!',\n",
       " 'way',\n",
       " '--']"
      ]
     },
     "execution_count": 5,
     "metadata": {},
     "output_type": "execute_result"
    }
   ],
   "source": [
    "preprocessor.indexer.vocab[:10]"
   ]
  },
  {
   "cell_type": "markdown",
   "metadata": {},
   "source": [
    "## Load the pretrained word embedding GloVe"
   ]
  },
  {
   "cell_type": "code",
   "execution_count": 6,
   "metadata": {},
   "outputs": [],
   "source": [
    "_ = storage.chakin(name=\"GloVe.6B.100d\")"
   ]
  },
  {
   "cell_type": "code",
   "execution_count": 7,
   "metadata": {},
   "outputs": [
    {
     "name": "stdout",
     "output_type": "stream",
     "text": [
      "(21646, 100)\n"
     ]
    }
   ],
   "source": [
    "embedding = preprocessor.indexer.make_embedding(storage.data_path(\"external/glove.6B.100d.txt\"))\n",
    "print(embedding.shape)"
   ]
  },
  {
   "cell_type": "markdown",
   "metadata": {},
   "source": [
    "## Make model by TensorFlow"
   ]
  },
  {
   "cell_type": "code",
   "execution_count": 39,
   "metadata": {},
   "outputs": [],
   "source": [
    "from tensorflow.python import keras as K\n",
    "\n",
    "\n",
    "vocab_size = len(preprocessor.indexer.vocab)\n",
    "embedding_size = 100\n",
    "\n",
    "model = K.Sequential()\n",
    "model.add(K.layers.Embedding(vocab_size, embedding_size, weights=[embedding]))\n",
    "model.add(K.layers.LSTM(embedding_size, dropout=0.5, recurrent_dropout=0.5))\n",
    "model.add(K.layers.Dense(1, activation=\"sigmoid\"))\n",
    "\n",
    "model.compile(loss=\"binary_crossentropy\",\n",
    "              optimizer=\"adam\",\n",
    "              metrics=[\"accuracy\"])"
   ]
  },
  {
   "cell_type": "code",
   "execution_count": 26,
   "metadata": {},
   "outputs": [],
   "source": [
    "feed = train_dataset.to_feed(field_transformers={\n",
    "    \"polarity\": None,\n",
    "    \"review\": preprocessor\n",
    "})\n",
    "\n",
    "y_full, X_full = feed.full()  # Get Batch"
   ]
  },
  {
   "cell_type": "code",
   "execution_count": 32,
   "metadata": {},
   "outputs": [
    {
     "name": "stdout",
     "output_type": "stream",
     "text": [
      "(1400,)\n",
      "(1400, 80)\n"
     ]
    }
   ],
   "source": [
    "max_length = 80\n",
    "y = y_full()\n",
    "X = X_full.adjust(padding=max_length)\n",
    "print(y.shape)\n",
    "print(X.shape)"
   ]
  },
  {
   "cell_type": "markdown",
   "metadata": {},
   "source": [
    "### Train the model"
   ]
  },
  {
   "cell_type": "code",
   "execution_count": 40,
   "metadata": {},
   "outputs": [
    {
     "name": "stdout",
     "output_type": "stream",
     "text": [
      "Train on 1120 samples, validate on 280 samples\n",
      "Epoch 1/5\n",
      " - 5s - loss: 0.7006 - acc: 0.5214 - val_loss: 0.6860 - val_acc: 0.5536\n",
      "Epoch 2/5\n",
      " - 3s - loss: 0.6920 - acc: 0.5420 - val_loss: 0.6890 - val_acc: 0.5464\n",
      "Epoch 3/5\n",
      " - 3s - loss: 0.6680 - acc: 0.6071 - val_loss: 0.6820 - val_acc: 0.5464\n",
      "Epoch 4/5\n",
      " - 3s - loss: 0.6571 - acc: 0.6179 - val_loss: 0.6802 - val_acc: 0.5571\n",
      "Epoch 5/5\n",
      " - 3s - loss: 0.6420 - acc: 0.6339 - val_loss: 0.6905 - val_acc: 0.5679\n"
     ]
    },
    {
     "data": {
      "text/plain": [
       "<tensorflow.python.keras._impl.keras.callbacks.History at 0x17868718d68>"
      ]
     },
     "execution_count": 40,
     "metadata": {},
     "output_type": "execute_result"
    }
   ],
   "source": [
    "from sklearn.model_selection import train_test_split\n",
    "\n",
    "\n",
    "X_train, X_valid, y_train, y_valid = train_test_split(X, y, test_size=0.2)\n",
    "\n",
    "model.fit(X_train, y_train,\n",
    "          batch_size=32,\n",
    "          epochs=5,\n",
    "          validation_data=(X_valid, y_valid), verbose=2)"
   ]
  },
  {
   "cell_type": "markdown",
   "metadata": {},
   "source": [
    "### Evaluate the model"
   ]
  },
  {
   "cell_type": "code",
   "execution_count": null,
   "metadata": {},
   "outputs": [],
   "source": [
    "test_dataset = storage.chazutsu(r).test_dataset\n",
    "if len(test_dataset.fields) == 0:\n",
    "    test_dataset.fields = [\"polarity\", \"review\"]\n",
    "\n",
    "feed = test_dataset.to_feed(field_transformers={\n",
    "    \"polarity\": None,\n",
    "    \"review\": preprocessor\n",
    "})\n",
    "\n",
    "y_test_full, X_test_full = feed.full()  # Get Batch\n",
    "y_test = y_test_full()\n",
    "X_test = X_test_full.adjust(padding=max_length)"
   ]
  },
  {
   "cell_type": "code",
   "execution_count": null,
   "metadata": {},
   "outputs": [],
   "source": [
    "score, acc = model.evaluate(X_test, y_test, batch_size=32)"
   ]
  },
  {
   "cell_type": "code",
   "execution_count": null,
   "metadata": {},
   "outputs": [],
   "source": [
    "print(\"Score: {}, Accuracy: {}\".format(score, acc))"
   ]
  },
  {
   "cell_type": "markdown",
   "metadata": {},
   "source": [
    "## Model & Preprocessor persistence"
   ]
  },
  {
   "cell_type": "code",
   "execution_count": null,
   "metadata": {},
   "outputs": [],
   "source": [
    "from sklearn.externals import joblib\n",
    "\n",
    "\n",
    "model.save(\"sentiment_model.h5\")\n",
    "joblib.dump(preprocessor, \"sentiment_preprocessor.pkl\")"
   ]
  },
  {
   "cell_type": "code",
   "execution_count": null,
   "metadata": {},
   "outputs": [],
   "source": []
  }
 ],
 "metadata": {
  "kernelspec": {
   "display_name": "Python 3",
   "language": "python",
   "name": "python3"
  },
  "language_info": {
   "codemirror_mode": {
    "name": "ipython",
    "version": 3
   },
   "file_extension": ".py",
   "mimetype": "text/x-python",
   "name": "python",
   "nbconvert_exporter": "python",
   "pygments_lexer": "ipython3",
   "version": "3.6.3"
  }
 },
 "nbformat": 4,
 "nbformat_minor": 2
}
