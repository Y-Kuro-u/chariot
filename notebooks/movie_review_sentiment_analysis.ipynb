{
 "cells": [
  {
   "cell_type": "markdown",
   "metadata": {},
   "source": [
    "# Movie Review Sentiment Analysis\n",
    "\n",
    "Let's try the sentiment analysis by using [chariot](https://github.com/chakki-works/chariot) and [Tensorflow](https://www.tensorflow.org/).\n",
    "\n",
    "1. Download the [Movie Review Data](https://github.com/chakki-works/chazutsu/tree/master/chazutsu#movie-review-data).\n",
    "2. Preprocess the review text by chariot.\n",
    "3. Load the pretrained word embedding [GloVe](https://nlp.stanford.edu/projects/glove/).\n",
    "4. Make model by TensorFlow (use `tf.keras`).\n",
    "5. Train & evaluate the model.\n",
    "\n",
    "This tutorial needs following libraries.\n",
    "\n",
    "* chazutsu\n",
    "* chakin\n",
    "* scipy\n",
    "* scikit-learn\n",
    "* tensorflow\n",
    "* h5py\n"
   ]
  },
  {
   "cell_type": "markdown",
   "metadata": {},
   "source": [
    "## Prepare the packages"
   ]
  },
  {
   "cell_type": "code",
   "execution_count": 1,
   "metadata": {},
   "outputs": [],
   "source": [
    "%load_ext autoreload\n",
    "%autoreload 2\n",
    "\n",
    "\n",
    "import os\n",
    "import sys\n",
    "from pathlib import Path\n",
    "\n",
    "\n",
    "def set_path():\n",
    "    if \"../\" not in sys.path:\n",
    "        sys.path.append(\"../\")\n",
    "    root_dir = Path.cwd()\n",
    "    return root_dir\n",
    "\n",
    "ROOT_DIR = set_path()"
   ]
  },
  {
   "cell_type": "markdown",
   "metadata": {},
   "source": [
    "## Download the Movie Review Data"
   ]
  },
  {
   "cell_type": "code",
   "execution_count": 2,
   "metadata": {
    "scrolled": true
   },
   "outputs": [
    {
     "name": "stdout",
     "output_type": "stream",
     "text": [
      "Read resource from the existed resource(if you want to retry, set force=True).\n"
     ]
    }
   ],
   "source": [
    "import chazutsu\n",
    "from chariot.storage import Storage\n",
    "\n",
    "storage = Storage.setup_data_dir(ROOT_DIR)\n",
    "r = chazutsu.datasets.MovieReview.polarity().download(storage.data_path(\"raw\"))"
   ]
  },
  {
   "cell_type": "code",
   "execution_count": 3,
   "metadata": {},
   "outputs": [
    {
     "data": {
      "text/html": [
       "<div>\n",
       "<style scoped>\n",
       "    .dataframe tbody tr th:only-of-type {\n",
       "        vertical-align: middle;\n",
       "    }\n",
       "\n",
       "    .dataframe tbody tr th {\n",
       "        vertical-align: top;\n",
       "    }\n",
       "\n",
       "    .dataframe thead th {\n",
       "        text-align: right;\n",
       "    }\n",
       "</style>\n",
       "<table border=\"1\" class=\"dataframe\">\n",
       "  <thead>\n",
       "    <tr style=\"text-align: right;\">\n",
       "      <th></th>\n",
       "      <th>polarity</th>\n",
       "      <th>review</th>\n",
       "    </tr>\n",
       "  </thead>\n",
       "  <tbody>\n",
       "    <tr>\n",
       "      <th>0</th>\n",
       "      <td>0</td>\n",
       "      <td>what hath kevin williamson wrought ? while the...</td>\n",
       "    </tr>\n",
       "    <tr>\n",
       "      <th>1</th>\n",
       "      <td>1</td>\n",
       "      <td>note : some may consider portions of the follo...</td>\n",
       "    </tr>\n",
       "    <tr>\n",
       "      <th>2</th>\n",
       "      <td>0</td>\n",
       "      <td>in the finale of disney's \" mighty joe young ,...</td>\n",
       "    </tr>\n",
       "  </tbody>\n",
       "</table>\n",
       "</div>"
      ],
      "text/plain": [
       "   polarity                                             review\n",
       "0         0  what hath kevin williamson wrought ? while the...\n",
       "1         1  note : some may consider portions of the follo...\n",
       "2         0  in the finale of disney's \" mighty joe young ,..."
      ]
     },
     "execution_count": 3,
     "metadata": {},
     "output_type": "execute_result"
    }
   ],
   "source": [
    "train_dataset = storage.chazutsu(r).train_dataset\n",
    "if len(train_dataset.fields) == 0:\n",
    "    train_dataset.fields = [\"polarity\", \"review\"]\n",
    "train_dataset.to_dataframe().head(3)"
   ]
  },
  {
   "cell_type": "markdown",
   "metadata": {},
   "source": [
    "## Preprocess the review text by chariot."
   ]
  },
  {
   "cell_type": "code",
   "execution_count": 4,
   "metadata": {},
   "outputs": [
    {
     "data": {
      "text/plain": [
       "Preprocessor(indexer=Indexer(begin_of_seq=None, copy=True, end_of_seq=None, max_df=0.5, min_df=5,\n",
       "    padding=None, size=-1, unknown=None),\n",
       "       n_jobs=1,\n",
       "       text_transformers=[UnicodeNormalizer(copy=True, form='NFKC')],\n",
       "       token_transformers=[StopwordFilter(copy=True, lang='en')],\n",
       "       tokenizer=Tokenizer(copy=True, lang='en'))"
      ]
     },
     "execution_count": 4,
     "metadata": {},
     "output_type": "execute_result"
    }
   ],
   "source": [
    "import chariot.transformer as ct\n",
    "from chariot.preprocessor import Preprocessor\n",
    "\n",
    "\n",
    "preprocessor = Preprocessor(\n",
    "                    tokenizer=ct.Tokenizer(\"en\"),\n",
    "                    text_transformers=[ct.text.UnicodeNormalizer()],\n",
    "                    token_transformers=[ct.token.StopwordFilter(\"en\")],\n",
    "                    indexer=ct.Indexer(min_df=5, max_df=0.5))\n",
    "\n",
    "preprocessor.fit(train_dataset.get(\"review\"))"
   ]
  },
  {
   "cell_type": "code",
   "execution_count": 5,
   "metadata": {},
   "outputs": [
    {
     "data": {
      "text/plain": [
       "['__PAD__',\n",
       " '__UNK__',\n",
       " '__BOS__',\n",
       " '__EOS__',\n",
       " 'makes',\n",
       " '_',\n",
       " 'better',\n",
       " 'real',\n",
       " 'role',\n",
       " 'seen']"
      ]
     },
     "execution_count": 5,
     "metadata": {},
     "output_type": "execute_result"
    }
   ],
   "source": [
    "preprocessor.indexer.vocab[:10]"
   ]
  },
  {
   "cell_type": "markdown",
   "metadata": {},
   "source": [
    "## Load the pretrained word embedding GloVe"
   ]
  },
  {
   "cell_type": "code",
   "execution_count": 6,
   "metadata": {},
   "outputs": [],
   "source": [
    "_ = storage.chakin(name=\"GloVe.6B.200d\")"
   ]
  },
  {
   "cell_type": "code",
   "execution_count": 7,
   "metadata": {},
   "outputs": [
    {
     "name": "stdout",
     "output_type": "stream",
     "text": [
      "(10453, 200)\n"
     ]
    }
   ],
   "source": [
    "embedding = preprocessor.indexer.make_embedding(storage.data_path(\"external/glove.6B.200d.txt\"))\n",
    "print(embedding.shape)"
   ]
  },
  {
   "cell_type": "markdown",
   "metadata": {},
   "source": [
    "## Make model by TensorFlow"
   ]
  },
  {
   "cell_type": "markdown",
   "metadata": {},
   "source": [
    "### Prepare train dataset"
   ]
  },
  {
   "cell_type": "code",
   "execution_count": 8,
   "metadata": {},
   "outputs": [],
   "source": [
    "feed = train_dataset.to_feed(field_transformers={\n",
    "    \"polarity\": None,\n",
    "    \"review\": preprocessor\n",
    "})\n",
    "\n",
    "y_full, X_full = feed.full()  # Get Batch"
   ]
  },
  {
   "cell_type": "code",
   "execution_count": 9,
   "metadata": {},
   "outputs": [
    {
     "name": "stdout",
     "output_type": "stream",
     "text": [
      "(1400,)\n",
      "(1400, 300)\n"
     ]
    }
   ],
   "source": [
    "max_length = 300\n",
    "y = y_full()\n",
    "X = X_full.adjust(padding=max_length)\n",
    "print(y.shape)\n",
    "print(X.shape)"
   ]
  },
  {
   "cell_type": "markdown",
   "metadata": {},
   "source": [
    "### Test baseline model"
   ]
  },
  {
   "cell_type": "code",
   "execution_count": 10,
   "metadata": {},
   "outputs": [
    {
     "name": "stdout",
     "output_type": "stream",
     "text": [
      "0.775\n"
     ]
    }
   ],
   "source": [
    "from sklearn.feature_extraction.text import TfidfVectorizer\n",
    "from sklearn.linear_model import LogisticRegression\n",
    "from sklearn.model_selection import train_test_split\n",
    "from sklearn import metrics\n",
    "\n",
    "\n",
    "def test_baseline(X, y):\n",
    "    X_concat = [\" \".join([str(i) for i in row]) for row in X]\n",
    "    x_train, x_valid, y_train, y_valid = train_test_split(X_concat, y, test_size=0.2)\n",
    "    vectorizer = TfidfVectorizer()\n",
    "    x_train_v = vectorizer.fit_transform(x_train)\n",
    "\n",
    "    classifier = LogisticRegression()\n",
    "    classifier.fit(x_train_v, y_train)\n",
    "\n",
    "    predict = classifier.predict(vectorizer.transform(x_valid))\n",
    "    score = metrics.accuracy_score(y_valid, predict)\n",
    "\n",
    "    print(score)\n",
    "\n",
    "test_baseline(X, y)"
   ]
  },
  {
   "cell_type": "markdown",
   "metadata": {},
   "source": [
    "### Make model"
   ]
  },
  {
   "cell_type": "code",
   "execution_count": 11,
   "metadata": {},
   "outputs": [],
   "source": [
    "from tensorflow.python import keras as K\n",
    "\n",
    "\n",
    "vocab_size = len(preprocessor.indexer.vocab)\n",
    "embedding_size = 200\n",
    "\n",
    "def make_model():\n",
    "    model = K.Sequential()\n",
    "    model.add(K.layers.Masking(mask_value=preprocessor.indexer.pad))\n",
    "    model.add(K.layers.Embedding(vocab_size, embedding_size, weights=[embedding]))\n",
    "    model.add(K.layers.Lambda(lambda x: K.backend.mean(x, axis=1)))\n",
    "    model.add(K.layers.Dense(1, activation=\"sigmoid\"))\n",
    "    return model\n",
    "\n",
    "model = make_model()\n",
    "model.compile(loss=\"binary_crossentropy\",\n",
    "              optimizer=\"adam\",\n",
    "              metrics=[\"accuracy\"])"
   ]
  },
  {
   "cell_type": "markdown",
   "metadata": {},
   "source": [
    "### Train the model"
   ]
  },
  {
   "cell_type": "code",
   "execution_count": 12,
   "metadata": {},
   "outputs": [
    {
     "name": "stderr",
     "output_type": "stream",
     "text": [
      "c:\\users\\ico\\documents\\works\\chariot\\venv\\lib\\site-packages\\tensorflow\\python\\ops\\gradients_impl.py:100: UserWarning: Converting sparse IndexedSlices to a dense Tensor of unknown shape. This may consume a large amount of memory.\n",
      "  \"Converting sparse IndexedSlices to a dense Tensor of unknown shape. \"\n"
     ]
    },
    {
     "name": "stdout",
     "output_type": "stream",
     "text": [
      "Train on 1120 samples, validate on 280 samples\n",
      "Epoch 1/15\n",
      " - 2s - loss: 0.6902 - acc: 0.5179 - val_loss: 0.6862 - val_acc: 0.5821\n",
      "Epoch 2/15\n",
      " - 2s - loss: 0.6767 - acc: 0.6875 - val_loss: 0.6792 - val_acc: 0.6393\n",
      "Epoch 3/15\n",
      " - 2s - loss: 0.6639 - acc: 0.6536 - val_loss: 0.6712 - val_acc: 0.6643\n",
      "Epoch 4/15\n",
      " - 2s - loss: 0.6462 - acc: 0.8116 - val_loss: 0.6625 - val_acc: 0.7000\n",
      "Epoch 5/15\n",
      " - 2s - loss: 0.6262 - acc: 0.8500 - val_loss: 0.6515 - val_acc: 0.7107\n",
      "Epoch 6/15\n",
      " - 2s - loss: 0.6009 - acc: 0.8634 - val_loss: 0.6387 - val_acc: 0.7179\n",
      "Epoch 7/15\n",
      " - 2s - loss: 0.5708 - acc: 0.8955 - val_loss: 0.6258 - val_acc: 0.7464\n",
      "Epoch 8/15\n",
      " - 2s - loss: 0.5356 - acc: 0.9071 - val_loss: 0.6103 - val_acc: 0.7536\n",
      "Epoch 9/15\n",
      " - 2s - loss: 0.4969 - acc: 0.9295 - val_loss: 0.5949 - val_acc: 0.7464\n",
      "Epoch 10/15\n",
      " - 2s - loss: 0.4556 - acc: 0.9509 - val_loss: 0.5784 - val_acc: 0.7679\n",
      "Epoch 11/15\n",
      " - 2s - loss: 0.4118 - acc: 0.9616 - val_loss: 0.5633 - val_acc: 0.7643\n",
      "Epoch 12/15\n",
      " - 2s - loss: 0.3707 - acc: 0.9661 - val_loss: 0.5484 - val_acc: 0.7679\n",
      "Epoch 13/15\n",
      " - 2s - loss: 0.3310 - acc: 0.9705 - val_loss: 0.5353 - val_acc: 0.7821\n",
      "Epoch 14/15\n",
      " - 2s - loss: 0.2947 - acc: 0.9813 - val_loss: 0.5245 - val_acc: 0.7893\n",
      "Epoch 15/15\n",
      " - 2s - loss: 0.2612 - acc: 0.9839 - val_loss: 0.5158 - val_acc: 0.7750\n"
     ]
    },
    {
     "data": {
      "text/plain": [
       "<tensorflow.python.keras.callbacks.History at 0x2587d8dc080>"
      ]
     },
     "execution_count": 12,
     "metadata": {},
     "output_type": "execute_result"
    }
   ],
   "source": [
    "from sklearn.model_selection import train_test_split\n",
    "\n",
    "\n",
    "X_train, X_valid, y_train, y_valid = train_test_split(X, y, test_size=0.2)\n",
    "\n",
    "model.fit(X_train, y_train,\n",
    "          batch_size=32,\n",
    "          epochs=15,\n",
    "          validation_data=(X_valid, y_valid), verbose=2)"
   ]
  },
  {
   "cell_type": "markdown",
   "metadata": {},
   "source": [
    "### Evaluate the model"
   ]
  },
  {
   "cell_type": "code",
   "execution_count": 13,
   "metadata": {},
   "outputs": [],
   "source": [
    "test_dataset = storage.chazutsu(r).test_dataset\n",
    "if len(test_dataset.fields) == 0:\n",
    "    test_dataset.fields = [\"polarity\", \"review\"]\n",
    "\n",
    "feed = test_dataset.to_feed(field_transformers={\n",
    "    \"polarity\": None,\n",
    "    \"review\": preprocessor\n",
    "})\n",
    "\n",
    "y_test_full, X_test_full = feed.full()  # Get Batch\n",
    "y_test = y_test_full()\n",
    "X_test = X_test_full.adjust(padding=max_length)"
   ]
  },
  {
   "cell_type": "code",
   "execution_count": 14,
   "metadata": {},
   "outputs": [
    {
     "name": "stdout",
     "output_type": "stream",
     "text": [
      "600/600 [==============================] - ETA:  - ETA:  - ETA:  - 0s 240us/step\n"
     ]
    }
   ],
   "source": [
    "score, acc = model.evaluate(X_test, y_test, batch_size=32)"
   ]
  },
  {
   "cell_type": "code",
   "execution_count": 15,
   "metadata": {},
   "outputs": [
    {
     "name": "stdout",
     "output_type": "stream",
     "text": [
      "Score: 0.5046493029594421, Accuracy: 0.7849999992052714\n"
     ]
    }
   ],
   "source": [
    "print(\"Score: {}, Accuracy: {}\".format(score, acc))"
   ]
  },
  {
   "cell_type": "markdown",
   "metadata": {},
   "source": [
    "## Model & Preprocessor persistence"
   ]
  },
  {
   "cell_type": "code",
   "execution_count": 16,
   "metadata": {},
   "outputs": [
    {
     "name": "stdout",
     "output_type": "stream",
     "text": [
      "save models\n"
     ]
    }
   ],
   "source": [
    "import json\n",
    "from sklearn.externals import joblib\n",
    "\n",
    "\n",
    "if not os.path.exists(\"models\"):\n",
    "    os.mkdir(\"models\")\n",
    "\n",
    "model.save(\"models/sentiment_model.h5\")\n",
    "joblib.dump(preprocessor, \"models/sentiment_preprocessor.pkl\")\n",
    "print(\"save models\")"
   ]
  },
  {
   "cell_type": "markdown",
   "metadata": {},
   "source": [
    "### Load"
   ]
  },
  {
   "cell_type": "code",
   "execution_count": 17,
   "metadata": {},
   "outputs": [],
   "source": [
    "loaded_preprocessor = joblib.load(\"models/sentiment_preprocessor.pkl\") "
   ]
  },
  {
   "cell_type": "code",
   "execution_count": 18,
   "metadata": {},
   "outputs": [
    {
     "name": "stdout",
     "output_type": "stream",
     "text": [
      "600/600 [==============================] - ETA:  - ETA:  - ETA:  - ETA:  - 0s 290us/step\n"
     ]
    }
   ],
   "source": [
    "feed = test_dataset.to_feed(field_transformers={\n",
    "    \"polarity\": None,\n",
    "    \"review\": loaded_preprocessor\n",
    "})\n",
    "\n",
    "y_test_full, X_test_full = feed.full()  # Get Batch\n",
    "y_test = y_test_full()\n",
    "X_test = X_test_full.adjust(padding=max_length)\n",
    "\n",
    "score, acc = model.evaluate(X_test, y_test, batch_size=32)"
   ]
  },
  {
   "cell_type": "code",
   "execution_count": 19,
   "metadata": {},
   "outputs": [
    {
     "name": "stdout",
     "output_type": "stream",
     "text": [
      "Score: 0.5046493029594421, Accuracy: 0.7849999992052714\n"
     ]
    }
   ],
   "source": [
    "print(\"Score: {}, Accuracy: {}\".format(score, acc))"
   ]
  },
  {
   "cell_type": "code",
   "execution_count": null,
   "metadata": {},
   "outputs": [],
   "source": []
  }
 ],
 "metadata": {
  "kernelspec": {
   "display_name": "Python 3",
   "language": "python",
   "name": "python3"
  },
  "language_info": {
   "codemirror_mode": {
    "name": "ipython",
    "version": 3
   },
   "file_extension": ".py",
   "mimetype": "text/x-python",
   "name": "python",
   "nbconvert_exporter": "python",
   "pygments_lexer": "ipython3",
   "version": "3.6.4"
  }
 },
 "nbformat": 4,
 "nbformat_minor": 2
}
