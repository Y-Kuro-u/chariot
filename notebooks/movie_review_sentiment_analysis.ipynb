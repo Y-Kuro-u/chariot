{
 "cells": [
  {
   "cell_type": "markdown",
   "metadata": {},
   "source": [
    "# Movie Review Sentiment Analysis\n",
    "\n",
    "Let's try the sentiment analysis by using [chariot](https://github.com/chakki-works/chariot) and [Tensorflow](https://www.tensorflow.org/).\n",
    "\n",
    "1. Download the [Movie Review Data](https://github.com/chakki-works/chazutsu/tree/master/chazutsu#movie-review-data).\n",
    "2. Preprocess the review text by chariot.\n",
    "3. Load the pretrained word embedding [GloVe](https://nlp.stanford.edu/projects/glove/).\n",
    "4. Make model by TensorFlow (use `tf.keras`).\n",
    "5. Train & evaluate the model.\n"
   ]
  },
  {
   "cell_type": "markdown",
   "metadata": {},
   "source": [
    "## Prepare the packages"
   ]
  },
  {
   "cell_type": "code",
   "execution_count": 1,
   "metadata": {},
   "outputs": [],
   "source": [
    "%load_ext autoreload\n",
    "%autoreload 2\n",
    "\n",
    "\n",
    "import os\n",
    "import sys\n",
    "from pathlib import Path\n",
    "\n",
    "\n",
    "def set_path():\n",
    "    if \"../\" not in sys.path:\n",
    "        sys.path.append(\"../\")\n",
    "    root_dir = Path.cwd()\n",
    "    return root_dir\n",
    "\n",
    "ROOT_DIR = set_path()"
   ]
  },
  {
   "cell_type": "markdown",
   "metadata": {},
   "source": [
    "## Download the Movie Review Data"
   ]
  },
  {
   "cell_type": "code",
   "execution_count": 107,
   "metadata": {
    "scrolled": true
   },
   "outputs": [
    {
     "name": "stdout",
     "output_type": "stream",
     "text": [
      "Read resource from the existed resource(if you want to retry, set force=True).\n"
     ]
    }
   ],
   "source": [
    "import chazutsu\n",
    "from chariot.storage import Storage\n",
    "\n",
    "storage = Storage.setup_data_dir(ROOT_DIR)\n",
    "r = chazutsu.datasets.MovieReview.polarity().download(storage.data_path(\"raw\"))"
   ]
  },
  {
   "cell_type": "code",
   "execution_count": 108,
   "metadata": {},
   "outputs": [
    {
     "data": {
      "text/html": [
       "<div>\n",
       "<style scoped>\n",
       "    .dataframe tbody tr th:only-of-type {\n",
       "        vertical-align: middle;\n",
       "    }\n",
       "\n",
       "    .dataframe tbody tr th {\n",
       "        vertical-align: top;\n",
       "    }\n",
       "\n",
       "    .dataframe thead th {\n",
       "        text-align: right;\n",
       "    }\n",
       "</style>\n",
       "<table border=\"1\" class=\"dataframe\">\n",
       "  <thead>\n",
       "    <tr style=\"text-align: right;\">\n",
       "      <th></th>\n",
       "      <th>polarity</th>\n",
       "      <th>review</th>\n",
       "    </tr>\n",
       "  </thead>\n",
       "  <tbody>\n",
       "    <tr>\n",
       "      <th>0</th>\n",
       "      <td>0</td>\n",
       "      <td>synopsis : an aging master art thief , his sup...</td>\n",
       "    </tr>\n",
       "    <tr>\n",
       "      <th>1</th>\n",
       "      <td>0</td>\n",
       "      <td>plot : a separated , glamorous , hollywood cou...</td>\n",
       "    </tr>\n",
       "    <tr>\n",
       "      <th>2</th>\n",
       "      <td>0</td>\n",
       "      <td>a friend invites you to a movie . this film wo...</td>\n",
       "    </tr>\n",
       "  </tbody>\n",
       "</table>\n",
       "</div>"
      ],
      "text/plain": [
       "   polarity                                             review\n",
       "0         0  synopsis : an aging master art thief , his sup...\n",
       "1         0  plot : a separated , glamorous , hollywood cou...\n",
       "2         0  a friend invites you to a movie . this film wo..."
      ]
     },
     "execution_count": 108,
     "metadata": {},
     "output_type": "execute_result"
    }
   ],
   "source": [
    "train_dataset = storage.chazutsu(r).train_dataset\n",
    "if len(train_dataset.fields) == 0:\n",
    "    train_dataset.fields = [\"polarity\", \"review\"]\n",
    "train_dataset.to_dataframe().head(3)"
   ]
  },
  {
   "cell_type": "markdown",
   "metadata": {},
   "source": [
    "## Preprocess the review text by chariot."
   ]
  },
  {
   "cell_type": "code",
   "execution_count": 109,
   "metadata": {},
   "outputs": [
    {
     "data": {
      "text/plain": [
       "Preprocessor(indexer=Indexer(begin_of_seq=None, copy=True, end_of_seq=None, max_df=0.5, min_df=5,\n",
       "    padding=None, size=-1, unknown=None),\n",
       "       n_jobs=1,\n",
       "       text_transformers=[UnicodeNormalizer(copy=True, form='NFKC')],\n",
       "       token_transformers=[StopwordFilter(copy=True, lang='en')],\n",
       "       tokenizer=Tokenizer(copy=True, lang='en'))"
      ]
     },
     "execution_count": 109,
     "metadata": {},
     "output_type": "execute_result"
    }
   ],
   "source": [
    "import chariot.transformer as ct\n",
    "from chariot.preprocessor import Preprocessor\n",
    "\n",
    "\n",
    "preprocessor = Preprocessor(\n",
    "                    tokenizer=ct.Tokenizer(\"en\"),\n",
    "                    text_transformers=[ct.text.UnicodeNormalizer()],\n",
    "                    token_transformers=[ct.token.StopwordFilter(\"en\")],\n",
    "                    indexer=ct.Indexer(min_df=5, max_df=0.5))\n",
    "\n",
    "preprocessor.fit(train_dataset.get(\"review\"))"
   ]
  },
  {
   "cell_type": "code",
   "execution_count": 110,
   "metadata": {},
   "outputs": [
    {
     "data": {
      "text/plain": [
       "['__PAD__',\n",
       " '__UNK__',\n",
       " '__BOS__',\n",
       " '__EOS__',\n",
       " 'big',\n",
       " \"'re\",\n",
       " '*',\n",
       " 'makes',\n",
       " 'seen',\n",
       " 'real']"
      ]
     },
     "execution_count": 110,
     "metadata": {},
     "output_type": "execute_result"
    }
   ],
   "source": [
    "preprocessor.indexer.vocab[:10]"
   ]
  },
  {
   "cell_type": "markdown",
   "metadata": {},
   "source": [
    "## Load the pretrained word embedding GloVe"
   ]
  },
  {
   "cell_type": "code",
   "execution_count": 111,
   "metadata": {},
   "outputs": [],
   "source": [
    "_ = storage.chakin(name=\"GloVe.6B.200d\")"
   ]
  },
  {
   "cell_type": "code",
   "execution_count": 112,
   "metadata": {},
   "outputs": [
    {
     "name": "stdout",
     "output_type": "stream",
     "text": [
      "(10361, 200)\n"
     ]
    }
   ],
   "source": [
    "embedding = preprocessor.indexer.make_embedding(storage.data_path(\"external/glove.6B.200d.txt\"))\n",
    "print(embedding.shape)"
   ]
  },
  {
   "cell_type": "markdown",
   "metadata": {},
   "source": [
    "## Make model by TensorFlow"
   ]
  },
  {
   "cell_type": "markdown",
   "metadata": {},
   "source": [
    "### Prepare train dataset"
   ]
  },
  {
   "cell_type": "code",
   "execution_count": 113,
   "metadata": {},
   "outputs": [],
   "source": [
    "feed = train_dataset.to_feed(field_transformers={\n",
    "    \"polarity\": None,\n",
    "    \"review\": preprocessor\n",
    "})\n",
    "\n",
    "y_full, X_full = feed.full()  # Get Batch"
   ]
  },
  {
   "cell_type": "code",
   "execution_count": 114,
   "metadata": {},
   "outputs": [
    {
     "name": "stdout",
     "output_type": "stream",
     "text": [
      "(1400,)\n",
      "(1400, 300)\n"
     ]
    }
   ],
   "source": [
    "max_length = 300\n",
    "y = y_full()\n",
    "X = X_full.adjust(padding=max_length)\n",
    "print(y.shape)\n",
    "print(X.shape)"
   ]
  },
  {
   "cell_type": "markdown",
   "metadata": {},
   "source": [
    "### Test baseline model"
   ]
  },
  {
   "cell_type": "code",
   "execution_count": 115,
   "metadata": {},
   "outputs": [
    {
     "name": "stdout",
     "output_type": "stream",
     "text": [
      "0.7964285714285714\n"
     ]
    }
   ],
   "source": [
    "from sklearn.feature_extraction.text import TfidfVectorizer\n",
    "from sklearn.linear_model import LogisticRegression\n",
    "from sklearn import metrics\n",
    "\n",
    "\n",
    "def test_baseline(X, y):\n",
    "    X_concat = [\" \".join([str(i) for i in row]) for row in X]\n",
    "    x_train, x_valid, y_train, y_valid = train_test_split(X_concat, y, test_size=0.2)\n",
    "    vectorizer = TfidfVectorizer()\n",
    "    x_train_v = vectorizer.fit_transform(x_train)\n",
    "\n",
    "    classifier = LogisticRegression()\n",
    "    classifier.fit(x_train_v, y_train)\n",
    "\n",
    "    predict = classifier.predict(vectorizer.transform(x_valid))\n",
    "    score = metrics.accuracy_score(y_valid, predict)\n",
    "\n",
    "    print(score)\n",
    "\n",
    "test_baseline(X, y)"
   ]
  },
  {
   "cell_type": "markdown",
   "metadata": {},
   "source": [
    "### Make model"
   ]
  },
  {
   "cell_type": "code",
   "execution_count": 152,
   "metadata": {},
   "outputs": [],
   "source": [
    "from tensorflow.python import keras as K\n",
    "\n",
    "\n",
    "vocab_size = len(preprocessor.indexer.vocab)\n",
    "embedding_size = 200\n",
    "\n",
    "def make_model():\n",
    "    model = K.Sequential()\n",
    "    model.add(K.layers.Masking(mask_value=preprocessor.indexer.pad))\n",
    "    model.add(K.layers.Embedding(vocab_size, embedding_size, weights=[embedding]))\n",
    "    model.add(K.layers.Lambda(lambda x: K.backend.mean(x, axis=1)))\n",
    "    model.add(K.layers.Dense(1, activation=\"sigmoid\"))\n",
    "    return model\n",
    "\n",
    "model = make_model()\n",
    "model.compile(loss=\"binary_crossentropy\",\n",
    "              optimizer=\"adam\",\n",
    "              metrics=[\"accuracy\"])"
   ]
  },
  {
   "cell_type": "markdown",
   "metadata": {},
   "source": [
    "### Train the model"
   ]
  },
  {
   "cell_type": "code",
   "execution_count": 153,
   "metadata": {},
   "outputs": [
    {
     "name": "stdout",
     "output_type": "stream",
     "text": [
      "Train on 1120 samples, validate on 280 samples\n",
      "Epoch 1/15\n",
      " - 2s - loss: 0.6899 - acc: 0.5205 - val_loss: 0.6883 - val_acc: 0.5393\n",
      "Epoch 2/15\n",
      " - 1s - loss: 0.6756 - acc: 0.6089 - val_loss: 0.6828 - val_acc: 0.5500\n",
      "Epoch 3/15\n",
      " - 1s - loss: 0.6605 - acc: 0.7393 - val_loss: 0.6754 - val_acc: 0.6107\n",
      "Epoch 4/15\n",
      " - 1s - loss: 0.6442 - acc: 0.7946 - val_loss: 0.6672 - val_acc: 0.6214\n",
      "Epoch 5/15\n",
      " - 1s - loss: 0.6224 - acc: 0.7946 - val_loss: 0.6591 - val_acc: 0.6250\n",
      "Epoch 6/15\n",
      " - 1s - loss: 0.5984 - acc: 0.8152 - val_loss: 0.6450 - val_acc: 0.6821\n",
      "Epoch 7/15\n",
      " - 1s - loss: 0.5678 - acc: 0.8875 - val_loss: 0.6333 - val_acc: 0.6821\n",
      "Epoch 8/15\n",
      " - 1s - loss: 0.5335 - acc: 0.8973 - val_loss: 0.6146 - val_acc: 0.6893\n",
      "Epoch 9/15\n",
      " - 1s - loss: 0.4941 - acc: 0.9125 - val_loss: 0.6001 - val_acc: 0.7179\n",
      "Epoch 10/15\n",
      " - 1s - loss: 0.4532 - acc: 0.9286 - val_loss: 0.5811 - val_acc: 0.7179\n",
      "Epoch 11/15\n",
      " - 1s - loss: 0.4119 - acc: 0.9357 - val_loss: 0.5690 - val_acc: 0.7250\n",
      "Epoch 12/15\n",
      " - 1s - loss: 0.3718 - acc: 0.9482 - val_loss: 0.5523 - val_acc: 0.7250\n",
      "Epoch 13/15\n",
      " - 1s - loss: 0.3324 - acc: 0.9625 - val_loss: 0.5337 - val_acc: 0.7321\n",
      "Epoch 14/15\n",
      " - 1s - loss: 0.2964 - acc: 0.9741 - val_loss: 0.5166 - val_acc: 0.7393\n",
      "Epoch 15/15\n",
      " - 1s - loss: 0.2639 - acc: 0.9777 - val_loss: 0.5109 - val_acc: 0.7357\n"
     ]
    },
    {
     "data": {
      "text/plain": [
       "<tensorflow.python.keras._impl.keras.callbacks.History at 0x26b58c2f7b8>"
      ]
     },
     "execution_count": 153,
     "metadata": {},
     "output_type": "execute_result"
    }
   ],
   "source": [
    "from sklearn.model_selection import train_test_split\n",
    "\n",
    "\n",
    "X_train, X_valid, y_train, y_valid = train_test_split(X, y, test_size=0.2)\n",
    "\n",
    "model.fit(X_train, y_train,\n",
    "          batch_size=32,\n",
    "          epochs=15,\n",
    "          validation_data=(X_valid, y_valid), verbose=2)"
   ]
  },
  {
   "cell_type": "markdown",
   "metadata": {},
   "source": [
    "### Evaluate the model"
   ]
  },
  {
   "cell_type": "code",
   "execution_count": 118,
   "metadata": {},
   "outputs": [],
   "source": [
    "test_dataset = storage.chazutsu(r).test_dataset\n",
    "if len(test_dataset.fields) == 0:\n",
    "    test_dataset.fields = [\"polarity\", \"review\"]\n",
    "\n",
    "feed = test_dataset.to_feed(field_transformers={\n",
    "    \"polarity\": None,\n",
    "    \"review\": preprocessor\n",
    "})\n",
    "\n",
    "y_test_full, X_test_full = feed.full()  # Get Batch\n",
    "y_test = y_test_full()\n",
    "X_test = X_test_full.adjust(padding=max_length)"
   ]
  },
  {
   "cell_type": "code",
   "execution_count": 119,
   "metadata": {},
   "outputs": [
    {
     "name": "stdout",
     "output_type": "stream",
     "text": [
      "600/600 [==============================] - ETA:  - ETA:  - 0s 148us/step\n"
     ]
    }
   ],
   "source": [
    "score, acc = model.evaluate(X_test, y_test, batch_size=32)"
   ]
  },
  {
   "cell_type": "code",
   "execution_count": 120,
   "metadata": {},
   "outputs": [
    {
     "name": "stdout",
     "output_type": "stream",
     "text": [
      "Score: 0.5044107842445373, Accuracy: 0.7866666666666666\n"
     ]
    }
   ],
   "source": [
    "print(\"Score: {}, Accuracy: {}\".format(score, acc))"
   ]
  },
  {
   "cell_type": "markdown",
   "metadata": {},
   "source": [
    "## Model & Preprocessor persistence"
   ]
  },
  {
   "cell_type": "code",
   "execution_count": 161,
   "metadata": {},
   "outputs": [
    {
     "name": "stdout",
     "output_type": "stream",
     "text": [
      "save models\n"
     ]
    }
   ],
   "source": [
    "import json\n",
    "from sklearn.externals import joblib\n",
    "\n",
    "\n",
    "if not os.path.exists(\"models\"):\n",
    "    os.mkdir(\"models\")\n",
    "\n",
    "model.save(\"models/sentiment_model.h5\")\n",
    "joblib.dump(preprocessor, \"models/sentiment_preprocessor.pkl\")\n",
    "print(\"save models\")"
   ]
  },
  {
   "cell_type": "markdown",
   "metadata": {},
   "source": [
    "### Load"
   ]
  },
  {
   "cell_type": "code",
   "execution_count": 162,
   "metadata": {},
   "outputs": [],
   "source": [
    "loaded_preprocessor = joblib.load(\"models/sentiment_preprocessor.pkl\") "
   ]
  },
  {
   "cell_type": "code",
   "execution_count": 163,
   "metadata": {},
   "outputs": [
    {
     "name": "stdout",
     "output_type": "stream",
     "text": [
      "600/600 [==============================] - ETA: 50 - ETA: 24 - ETA: 2 - 3s 5ms/step\n",
      "Score: 0.5071771903832754, Accuracy: 0.7916666674613952\n"
     ]
    }
   ],
   "source": [
    "feed = test_dataset.to_feed(field_transformers={\n",
    "    \"polarity\": None,\n",
    "    \"review\": loaded_preprocessor\n",
    "})\n",
    "\n",
    "y_test_full, X_test_full = feed.full()  # Get Batch\n",
    "y_test = y_test_full()\n",
    "X_test = X_test_full.adjust(padding=max_length)\n",
    "\n",
    "score, acc = model.evaluate(X_test, y_test, batch_size=32)"
   ]
  },
  {
   "cell_type": "code",
   "execution_count": 164,
   "metadata": {},
   "outputs": [
    {
     "name": "stdout",
     "output_type": "stream",
     "text": [
      "Score: 0.5071771903832754, Accuracy: 0.7916666674613952\n"
     ]
    }
   ],
   "source": [
    "print(\"Score: {}, Accuracy: {}\".format(score, acc))"
   ]
  },
  {
   "cell_type": "code",
   "execution_count": null,
   "metadata": {},
   "outputs": [],
   "source": []
  }
 ],
 "metadata": {
  "kernelspec": {
   "display_name": "Python 3",
   "language": "python",
   "name": "python3"
  },
  "language_info": {
   "codemirror_mode": {
    "name": "ipython",
    "version": 3
   },
   "file_extension": ".py",
   "mimetype": "text/x-python",
   "name": "python",
   "nbconvert_exporter": "python",
   "pygments_lexer": "ipython3",
   "version": "3.6.3"
  }
 },
 "nbformat": 4,
 "nbformat_minor": 2
}
