{
 "cells": [
  {
   "cell_type": "markdown",
   "metadata": {},
   "source": [
    "# Movie Review Sentiment Analysis\n",
    "\n",
    "Let's try the sentiment analysis by using [chariot](https://github.com/chakki-works/chariot) and [Tensorflow](https://www.tensorflow.org/).\n",
    "\n",
    "1. Download the [Movie Review Data](https://github.com/chakki-works/chazutsu/tree/master/chazutsu#movie-review-data).\n",
    "2. Preprocess the review text by chariot.\n",
    "3. Load the pretrained word embedding [GloVe](https://nlp.stanford.edu/projects/glove/).\n",
    "4. Make model by TensorFlow (use `tf.keras`).\n",
    "5. Train & evaluate the model.\n",
    "\n",
    "This tutorial needs following libraries.\n",
    "\n",
    "* chazutsu\n",
    "* chakin\n",
    "* scipy\n",
    "* scikit-learn\n",
    "* tensorflow\n",
    "* h5py\n"
   ]
  },
  {
   "cell_type": "markdown",
   "metadata": {},
   "source": [
    "## Prepare the packages"
   ]
  },
  {
   "cell_type": "code",
   "execution_count": 1,
   "metadata": {},
   "outputs": [],
   "source": [
    "%load_ext autoreload\n",
    "%autoreload 2\n",
    "\n",
    "\n",
    "import os\n",
    "import sys\n",
    "from pathlib import Path\n",
    "\n",
    "\n",
    "def set_path():\n",
    "    if \"../\" not in sys.path:\n",
    "        sys.path.append(\"../\")\n",
    "    root_dir = Path.cwd()\n",
    "    return root_dir\n",
    "\n",
    "ROOT_DIR = set_path()"
   ]
  },
  {
   "cell_type": "markdown",
   "metadata": {},
   "source": [
    "## Download the Movie Review Data"
   ]
  },
  {
   "cell_type": "code",
   "execution_count": 2,
   "metadata": {
    "scrolled": true
   },
   "outputs": [
    {
     "name": "stdout",
     "output_type": "stream",
     "text": [
      "Read resource from the existed resource(if you want to retry, set force=True).\n"
     ]
    }
   ],
   "source": [
    "import chazutsu\n",
    "from chariot.storage import Storage\n",
    "\n",
    "storage = Storage.setup_data_dir(ROOT_DIR)\n",
    "r = chazutsu.datasets.MovieReview.polarity().download(storage.data_path(\"raw\"))"
   ]
  },
  {
   "cell_type": "code",
   "execution_count": 3,
   "metadata": {},
   "outputs": [
    {
     "data": {
      "text/html": [
       "<div>\n",
       "<style scoped>\n",
       "    .dataframe tbody tr th:only-of-type {\n",
       "        vertical-align: middle;\n",
       "    }\n",
       "\n",
       "    .dataframe tbody tr th {\n",
       "        vertical-align: top;\n",
       "    }\n",
       "\n",
       "    .dataframe thead th {\n",
       "        text-align: right;\n",
       "    }\n",
       "</style>\n",
       "<table border=\"1\" class=\"dataframe\">\n",
       "  <thead>\n",
       "    <tr style=\"text-align: right;\">\n",
       "      <th></th>\n",
       "      <th>polarity</th>\n",
       "      <th>review</th>\n",
       "    </tr>\n",
       "  </thead>\n",
       "  <tbody>\n",
       "    <tr>\n",
       "      <th>0</th>\n",
       "      <td>0</td>\n",
       "      <td>synopsis : an aging master art thief , his sup...</td>\n",
       "    </tr>\n",
       "    <tr>\n",
       "      <th>1</th>\n",
       "      <td>0</td>\n",
       "      <td>plot : a separated , glamorous , hollywood cou...</td>\n",
       "    </tr>\n",
       "    <tr>\n",
       "      <th>2</th>\n",
       "      <td>0</td>\n",
       "      <td>a friend invites you to a movie . this film wo...</td>\n",
       "    </tr>\n",
       "  </tbody>\n",
       "</table>\n",
       "</div>"
      ],
      "text/plain": [
       "   polarity                                             review\n",
       "0         0  synopsis : an aging master art thief , his sup...\n",
       "1         0  plot : a separated , glamorous , hollywood cou...\n",
       "2         0  a friend invites you to a movie . this film wo..."
      ]
     },
     "execution_count": 3,
     "metadata": {},
     "output_type": "execute_result"
    }
   ],
   "source": [
    "r.train_data().head(3)"
   ]
  },
  {
   "cell_type": "markdown",
   "metadata": {},
   "source": [
    "## Preprocess the review text by chariot."
   ]
  },
  {
   "cell_type": "markdown",
   "metadata": {},
   "source": [
    "### Make preprocessor"
   ]
  },
  {
   "cell_type": "code",
   "execution_count": 4,
   "metadata": {},
   "outputs": [
    {
     "data": {
      "text/plain": [
       "Preprocessor(text_transformers=[UnicodeNormalizer(copy=True, form='NFKC')],\n",
       "       token_transformers=[StopwordFilter(copy=True, lang='en')],\n",
       "       tokenizer=Tokenizer(copy=True, lang='en'),\n",
       "       vocabulary=Vocabulary(begin_of_sequence=None, copy=True, end_of_sequence=None, limit=-1,\n",
       "      max_df=0.5, min_df=5, padding=None, unknown=None))"
      ]
     },
     "execution_count": 4,
     "metadata": {},
     "output_type": "execute_result"
    }
   ],
   "source": [
    "import chariot.transformer as ct\n",
    "from chariot.preprocessor import Preprocessor\n",
    "\n",
    "\n",
    "review_processor = Preprocessor(\n",
    "                    text_transformers=[ct.text.UnicodeNormalizer()],\n",
    "                    tokenizer=ct.Tokenizer(\"en\"),\n",
    "                    token_transformers=[ct.token.StopwordFilter(\"en\")],\n",
    "                    vocabulary=ct.Vocabulary(min_df=5, max_df=0.5))\n",
    "\n",
    "review_processor.fit(r.train_data()[\"review\"])"
   ]
  },
  {
   "cell_type": "code",
   "execution_count": 5,
   "metadata": {},
   "outputs": [
    {
     "data": {
      "text/plain": [
       "['@@PADDING@@',\n",
       " '@@UNKNOWN@@',\n",
       " '@@BEGIN_OF_SEQUENCE@@',\n",
       " '@@END_OF_SEQUENCE@@',\n",
       " 'big',\n",
       " \"'re\",\n",
       " '*',\n",
       " 'makes',\n",
       " 'seen',\n",
       " 'real']"
      ]
     },
     "execution_count": 5,
     "metadata": {},
     "output_type": "execute_result"
    }
   ],
   "source": [
    "review_processor.vocabulary.get()[:10]"
   ]
  },
  {
   "cell_type": "markdown",
   "metadata": {},
   "source": [
    "### Define preprocess process"
   ]
  },
  {
   "cell_type": "code",
   "execution_count": 6,
   "metadata": {},
   "outputs": [],
   "source": [
    "from chariot.preprocess import Preprocess\n",
    "\n",
    "\n",
    "preprocess = Preprocess({\n",
    "    \"review\": review_processor\n",
    "})\n"
   ]
  },
  {
   "cell_type": "markdown",
   "metadata": {},
   "source": [
    "## Load the pretrained word embedding GloVe"
   ]
  },
  {
   "cell_type": "code",
   "execution_count": 7,
   "metadata": {},
   "outputs": [],
   "source": [
    "_ = storage.chakin(name=\"GloVe.6B.200d\")"
   ]
  },
  {
   "cell_type": "code",
   "execution_count": 8,
   "metadata": {},
   "outputs": [
    {
     "name": "stdout",
     "output_type": "stream",
     "text": [
      "(11721, 200)\n"
     ]
    }
   ],
   "source": [
    "embedding = review_processor.vocabulary.make_embedding(storage.data_path(\"external/glove.6B.200d.txt\"))\n",
    "print(embedding.shape)"
   ]
  },
  {
   "cell_type": "markdown",
   "metadata": {},
   "source": [
    "## Make model by TensorFlow"
   ]
  },
  {
   "cell_type": "markdown",
   "metadata": {},
   "source": [
    "### Prepare train dataset"
   ]
  },
  {
   "cell_type": "code",
   "execution_count": 9,
   "metadata": {},
   "outputs": [],
   "source": [
    "preprocessed = preprocess.apply(r.train_data())"
   ]
  },
  {
   "cell_type": "code",
   "execution_count": 10,
   "metadata": {},
   "outputs": [],
   "source": [
    "from chariot.feeder import Feeder\n",
    "from chariot.transformer.formatter import Padding\n",
    "\n",
    "\n",
    "pad_length = 300\n",
    "feeder = Feeder({\"review\": Padding.from_(review_processor, length=pad_length)})"
   ]
  },
  {
   "cell_type": "markdown",
   "metadata": {},
   "source": [
    "### Test baseline model"
   ]
  },
  {
   "cell_type": "code",
   "execution_count": 11,
   "metadata": {},
   "outputs": [
    {
     "name": "stdout",
     "output_type": "stream",
     "text": [
      "0.7428571428571429\n"
     ]
    }
   ],
   "source": [
    "from sklearn.feature_extraction.text import TfidfVectorizer\n",
    "from sklearn.linear_model import LogisticRegression\n",
    "from sklearn.model_selection import train_test_split\n",
    "from sklearn import metrics\n",
    "\n",
    "\n",
    "def test_baseline(data, feeder):\n",
    "    _data = feeder.apply(data)\n",
    "    X = [\" \".join(map(str, ids)) for ids in _data[\"review\"]]\n",
    "    y = _data[\"polarity\"]\n",
    "    x_train, x_valid, y_train, y_valid = train_test_split(X, y, test_size=0.2)\n",
    "    vectorizer = TfidfVectorizer()\n",
    "    x_train_v = vectorizer.fit_transform(x_train)\n",
    "\n",
    "    classifier = LogisticRegression()\n",
    "    classifier.fit(x_train_v, y_train)\n",
    "\n",
    "    predict = classifier.predict(vectorizer.transform(x_valid))\n",
    "    score = metrics.accuracy_score(y_valid, predict)\n",
    "\n",
    "    print(score)\n",
    "\n",
    "test_baseline(preprocessed, feeder)"
   ]
  },
  {
   "cell_type": "markdown",
   "metadata": {},
   "source": [
    "### Make model"
   ]
  },
  {
   "cell_type": "code",
   "execution_count": 12,
   "metadata": {},
   "outputs": [],
   "source": [
    "from tensorflow.python import keras as K\n",
    "\n",
    "\n",
    "vocab_size = review_processor.vocabulary.count\n",
    "embedding_size = 200\n",
    "\n",
    "def make_model():\n",
    "    model = K.Sequential()\n",
    "    model.add(K.layers.Masking(mask_value=review_processor.vocabulary.pad, input_shape=(pad_length,)))\n",
    "    model.add(K.layers.Embedding(vocab_size, embedding_size, weights=[embedding]))\n",
    "    model.add(K.layers.Lambda(lambda x: K.backend.mean(x, axis=1)))\n",
    "    model.add(K.layers.Dense(1, activation=\"sigmoid\"))\n",
    "    return model\n",
    "\n",
    "model = make_model()\n",
    "model.compile(loss=\"binary_crossentropy\",\n",
    "              optimizer=\"adam\",\n",
    "              metrics=[\"accuracy\"])"
   ]
  },
  {
   "cell_type": "markdown",
   "metadata": {},
   "source": [
    "### Train the model"
   ]
  },
  {
   "cell_type": "code",
   "execution_count": 13,
   "metadata": {},
   "outputs": [
    {
     "name": "stderr",
     "output_type": "stream",
     "text": [
      "c:\\users\\tie301837\\works\\source\\chariot\\venv\\lib\\site-packages\\tensorflow\\python\\ops\\gradients_impl.py:100: UserWarning: Converting sparse IndexedSlices to a dense Tensor of unknown shape. This may consume a large amount of memory.\n",
      "  \"Converting sparse IndexedSlices to a dense Tensor of unknown shape. \"\n"
     ]
    },
    {
     "name": "stdout",
     "output_type": "stream",
     "text": [
      "Train on 1120 samples, validate on 280 samples\n",
      "Epoch 1/15\n",
      " - 2s - loss: 0.6954 - acc: 0.5116 - val_loss: 0.6898 - val_acc: 0.5393\n",
      "Epoch 2/15\n",
      " - 1s - loss: 0.6804 - acc: 0.6777 - val_loss: 0.6782 - val_acc: 0.7214\n",
      "Epoch 3/15\n",
      " - 1s - loss: 0.6666 - acc: 0.7741 - val_loss: 0.6702 - val_acc: 0.7286\n",
      "Epoch 4/15\n",
      " - 1s - loss: 0.6508 - acc: 0.8000 - val_loss: 0.6598 - val_acc: 0.7571\n",
      "Epoch 5/15\n",
      " - 1s - loss: 0.6305 - acc: 0.8509 - val_loss: 0.6444 - val_acc: 0.7893\n",
      "Epoch 6/15\n",
      " - 1s - loss: 0.6056 - acc: 0.8795 - val_loss: 0.6313 - val_acc: 0.7893\n",
      "Epoch 7/15\n",
      " - 1s - loss: 0.5754 - acc: 0.8911 - val_loss: 0.6144 - val_acc: 0.7893\n",
      "Epoch 8/15\n",
      " - 1s - loss: 0.5406 - acc: 0.9080 - val_loss: 0.5962 - val_acc: 0.7964\n",
      "Epoch 9/15\n",
      " - 1s - loss: 0.5008 - acc: 0.9214 - val_loss: 0.5755 - val_acc: 0.8143\n",
      "Epoch 10/15\n",
      " - 1s - loss: 0.4584 - acc: 0.9438 - val_loss: 0.5575 - val_acc: 0.8107\n",
      "Epoch 11/15\n",
      " - 1s - loss: 0.4153 - acc: 0.9518 - val_loss: 0.5357 - val_acc: 0.8143\n",
      "Epoch 12/15\n",
      " - 1s - loss: 0.3733 - acc: 0.9661 - val_loss: 0.5193 - val_acc: 0.8143\n",
      "Epoch 13/15\n",
      " - 1s - loss: 0.3343 - acc: 0.9714 - val_loss: 0.5012 - val_acc: 0.8321\n",
      "Epoch 14/15\n",
      " - 1s - loss: 0.2974 - acc: 0.9795 - val_loss: 0.4861 - val_acc: 0.8321\n",
      "Epoch 15/15\n",
      " - 2s - loss: 0.2629 - acc: 0.9830 - val_loss: 0.4697 - val_acc: 0.8214\n"
     ]
    },
    {
     "data": {
      "text/plain": [
       "<tensorflow.python.keras.callbacks.History at 0x274ee8c59e8>"
      ]
     },
     "execution_count": 13,
     "metadata": {},
     "output_type": "execute_result"
    }
   ],
   "source": [
    "adjusted = feeder.apply(preprocessed)\n",
    "model.fit(adjusted[\"review\"], adjusted[\"polarity\"], batch_size=32,\n",
    "          validation_split=0.2, epochs=15, verbose=2)"
   ]
  },
  {
   "cell_type": "markdown",
   "metadata": {},
   "source": [
    "### Evaluate the model"
   ]
  },
  {
   "cell_type": "code",
   "execution_count": 14,
   "metadata": {},
   "outputs": [],
   "source": [
    "test_dataset = feeder.apply(preprocess.apply(r.test_data()))"
   ]
  },
  {
   "cell_type": "code",
   "execution_count": 15,
   "metadata": {},
   "outputs": [
    {
     "name": "stdout",
     "output_type": "stream",
     "text": [
      "600/600 [==============================] - ETA:  - ETA:  - 0s 115us/step\n"
     ]
    }
   ],
   "source": [
    "score, acc = model.evaluate(test_dataset[\"review\"], test_dataset[\"polarity\"], batch_size=32)"
   ]
  },
  {
   "cell_type": "code",
   "execution_count": 21,
   "metadata": {},
   "outputs": [
    {
     "name": "stdout",
     "output_type": "stream",
     "text": [
      "Loss: 0.5049298524856567, Accuracy: 0.796666665871938\n"
     ]
    }
   ],
   "source": [
    "print(\"Loss: {}, Accuracy: {}\".format(score, acc))"
   ]
  },
  {
   "cell_type": "markdown",
   "metadata": {},
   "source": [
    "## Model & Preprocessor persistence"
   ]
  },
  {
   "cell_type": "code",
   "execution_count": 17,
   "metadata": {},
   "outputs": [
    {
     "name": "stdout",
     "output_type": "stream",
     "text": [
      "save models\n"
     ]
    }
   ],
   "source": [
    "import json\n",
    "from sklearn.externals import joblib\n",
    "\n",
    "\n",
    "if not os.path.exists(\"models\"):\n",
    "    os.mkdir(\"models\")\n",
    "\n",
    "model.save(\"models/sentiment_model.h5\")\n",
    "preprocess.save(\"models/movie_preprocess.tar.gz\")\n",
    "feeder.save(\"models/movie_feeder.tar.gz\")\n",
    "print(\"save models\")"
   ]
  },
  {
   "cell_type": "markdown",
   "metadata": {},
   "source": [
    "### Load"
   ]
  },
  {
   "cell_type": "code",
   "execution_count": 18,
   "metadata": {},
   "outputs": [],
   "source": [
    "loaded_preprocess = Preprocess.load(\"models/movie_preprocess.tar.gz\")\n",
    "loaded_feeder = Feeder.load(\"models/movie_feeder.tar.gz\")"
   ]
  },
  {
   "cell_type": "code",
   "execution_count": 19,
   "metadata": {},
   "outputs": [
    {
     "name": "stdout",
     "output_type": "stream",
     "text": [
      "600/600 [==============================] - ETA:  - ETA:  - 0s 130us/step\n"
     ]
    }
   ],
   "source": [
    "test_dataset = loaded_feeder.apply(loaded_preprocess.apply(r.test_data()))\n",
    "score, acc = model.evaluate(test_dataset[\"review\"], test_dataset[\"polarity\"], batch_size=32)"
   ]
  },
  {
   "cell_type": "code",
   "execution_count": 22,
   "metadata": {},
   "outputs": [
    {
     "name": "stdout",
     "output_type": "stream",
     "text": [
      "Loss: 0.5049298524856567, Accuracy: 0.796666665871938\n"
     ]
    }
   ],
   "source": [
    "print(\"Loss: {}, Accuracy: {}\".format(score, acc))"
   ]
  },
  {
   "cell_type": "code",
   "execution_count": null,
   "metadata": {},
   "outputs": [],
   "source": []
  }
 ],
 "metadata": {
  "kernelspec": {
   "display_name": "Python 3",
   "language": "python",
   "name": "python3"
  },
  "language_info": {
   "codemirror_mode": {
    "name": "ipython",
    "version": 3
   },
   "file_extension": ".py",
   "mimetype": "text/x-python",
   "name": "python",
   "nbconvert_exporter": "python",
   "pygments_lexer": "ipython3",
   "version": "3.6.3"
  }
 },
 "nbformat": 4,
 "nbformat_minor": 2
}
