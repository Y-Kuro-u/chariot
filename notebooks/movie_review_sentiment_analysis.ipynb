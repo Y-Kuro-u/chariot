{
 "cells": [
  {
   "cell_type": "markdown",
   "metadata": {},
   "source": [
    "# Movie Review Sentiment Analysis\n",
    "\n",
    "Let's try the sentiment analysis by using [chariot](https://github.com/chakki-works/chariot) and [Tensorflow](https://www.tensorflow.org/).\n",
    "\n",
    "1. Download the [Movie Review Data](https://github.com/chakki-works/chazutsu/tree/master/chazutsu#movie-review-data).\n",
    "2. Preprocess the review text by chariot.\n",
    "3. Load the pretrained word embedding [GloVe](https://nlp.stanford.edu/projects/glove/).\n",
    "4. Make model by TensorFlow (use `tf.keras`).\n",
    "5. Train & evaluate the model.\n",
    "\n",
    "This tutorial needs following libraries.\n",
    "\n",
    "* chazutsu\n",
    "* chakin\n",
    "* scipy\n",
    "* scikit-learn\n",
    "* tensorflow\n",
    "* h5py\n"
   ]
  },
  {
   "cell_type": "markdown",
   "metadata": {},
   "source": [
    "## Prepare the packages"
   ]
  },
  {
   "cell_type": "code",
   "execution_count": 1,
   "metadata": {},
   "outputs": [],
   "source": [
    "%load_ext autoreload\n",
    "%autoreload 2\n",
    "\n",
    "\n",
    "import os\n",
    "import sys\n",
    "from pathlib import Path\n",
    "\n",
    "\n",
    "def set_path():\n",
    "    if \"../\" not in sys.path:\n",
    "        sys.path.append(\"../\")\n",
    "    root_dir = Path.cwd()\n",
    "    return root_dir\n",
    "\n",
    "ROOT_DIR = set_path()"
   ]
  },
  {
   "cell_type": "markdown",
   "metadata": {},
   "source": [
    "## Download the Movie Review Data"
   ]
  },
  {
   "cell_type": "code",
   "execution_count": 2,
   "metadata": {
    "scrolled": true
   },
   "outputs": [
    {
     "name": "stdout",
     "output_type": "stream",
     "text": [
      "Read resource from the existed resource(if you want to retry, set force=True).\n"
     ]
    }
   ],
   "source": [
    "import chazutsu\n",
    "from chariot.storage import Storage\n",
    "\n",
    "storage = Storage.setup_data_dir(ROOT_DIR)\n",
    "r = chazutsu.datasets.MovieReview.polarity().download(storage.data_path(\"raw\"))"
   ]
  },
  {
   "cell_type": "code",
   "execution_count": 3,
   "metadata": {},
   "outputs": [
    {
     "name": "stderr",
     "output_type": "stream",
     "text": [
      "/Users/smap6/.pyenv/versions/miniconda3-3.9.1/envs/chariot/lib/python3.6/site-packages/chazutsu/datasets/framework/resource.py:106: FutureWarning: read_table is deprecated, use read_csv instead, passing sep='\\t'.\n",
      "  df = pd.read_table(path, header=None, names=self.columns)\n"
     ]
    },
    {
     "data": {
      "text/html": [
       "<div>\n",
       "<style scoped>\n",
       "    .dataframe tbody tr th:only-of-type {\n",
       "        vertical-align: middle;\n",
       "    }\n",
       "\n",
       "    .dataframe tbody tr th {\n",
       "        vertical-align: top;\n",
       "    }\n",
       "\n",
       "    .dataframe thead th {\n",
       "        text-align: right;\n",
       "    }\n",
       "</style>\n",
       "<table border=\"1\" class=\"dataframe\">\n",
       "  <thead>\n",
       "    <tr style=\"text-align: right;\">\n",
       "      <th></th>\n",
       "      <th>polarity</th>\n",
       "      <th>review</th>\n",
       "    </tr>\n",
       "  </thead>\n",
       "  <tbody>\n",
       "    <tr>\n",
       "      <th>0</th>\n",
       "      <td>1</td>\n",
       "      <td>a bleak look at how the boston underworld oper...</td>\n",
       "    </tr>\n",
       "    <tr>\n",
       "      <th>1</th>\n",
       "      <td>1</td>\n",
       "      <td>showgirls is the second major outing for the p...</td>\n",
       "    </tr>\n",
       "    <tr>\n",
       "      <th>2</th>\n",
       "      <td>1</td>\n",
       "      <td>countries and legal systems that take the rule...</td>\n",
       "    </tr>\n",
       "  </tbody>\n",
       "</table>\n",
       "</div>"
      ],
      "text/plain": [
       "   polarity                                             review\n",
       "0         1  a bleak look at how the boston underworld oper...\n",
       "1         1  showgirls is the second major outing for the p...\n",
       "2         1  countries and legal systems that take the rule..."
      ]
     },
     "execution_count": 3,
     "metadata": {},
     "output_type": "execute_result"
    }
   ],
   "source": [
    "r.train_data().head(3)"
   ]
  },
  {
   "cell_type": "markdown",
   "metadata": {},
   "source": [
    "## Preprocess the review text by chariot."
   ]
  },
  {
   "cell_type": "markdown",
   "metadata": {},
   "source": [
    "### Make single preprocessor"
   ]
  },
  {
   "cell_type": "code",
   "execution_count": 4,
   "metadata": {},
   "outputs": [
    {
     "name": "stderr",
     "output_type": "stream",
     "text": [
      "/Users/smap6/.pyenv/versions/miniconda3-3.9.1/envs/chariot/lib/python3.6/site-packages/chazutsu/datasets/framework/resource.py:106: FutureWarning: read_table is deprecated, use read_csv instead, passing sep='\\t'.\n",
      "  df = pd.read_table(path, header=None, names=self.columns)\n"
     ]
    },
    {
     "data": {
      "text/plain": [
       "Preprocessor(other_transformers=[],\n",
       "       text_transformers=[UnicodeNormalizer(copy=True, form='NFKC')],\n",
       "       token_transformers=[StopwordFilter(copy=True, lang='en')],\n",
       "       tokenizer=Tokenizer(copy=True, lang='en'),\n",
       "       vocabulary=Vocabulary(begin_of_sequence=None, copy=True, end_of_sequence=None,\n",
       "      ignore_blank=True, max_df=0.5, min_df=5, padding=None, unknown=None,\n",
       "      vocab_size=-1))"
      ]
     },
     "execution_count": 4,
     "metadata": {},
     "output_type": "execute_result"
    }
   ],
   "source": [
    "import chariot.transformer as ct\n",
    "from chariot.preprocessor import Preprocessor\n",
    "\n",
    "\n",
    "review_processor = Preprocessor(\n",
    "                    text_transformers=[ct.text.UnicodeNormalizer()],\n",
    "                    tokenizer=ct.Tokenizer(\"en\"),\n",
    "                    token_transformers=[ct.token.StopwordFilter(\"en\")],\n",
    "                    vocabulary=ct.Vocabulary(min_df=5, max_df=0.5))\n",
    "\n",
    "review_processor.fit(r.train_data()[\"review\"])"
   ]
  },
  {
   "cell_type": "code",
   "execution_count": 5,
   "metadata": {},
   "outputs": [
    {
     "data": {
      "text/plain": [
       "['@@PADDING@@',\n",
       " '@@UNKNOWN@@',\n",
       " '@@BEGIN_OF_SEQUENCE@@',\n",
       " '@@END_OF_SEQUENCE@@',\n",
       " \"'re\",\n",
       " 'work',\n",
       " 'better',\n",
       " 'real',\n",
       " 'gets',\n",
       " 'going']"
      ]
     },
     "execution_count": 5,
     "metadata": {},
     "output_type": "execute_result"
    }
   ],
   "source": [
    "review_processor.vocabulary.get()[:10]"
   ]
  },
  {
   "cell_type": "markdown",
   "metadata": {},
   "source": [
    "### Define dataset preprocessor"
   ]
  },
  {
   "cell_type": "code",
   "execution_count": 6,
   "metadata": {},
   "outputs": [
    {
     "data": {
      "text/plain": [
       "<chariot.dataset_preprocessor.ProcessBuilder at 0x161def048>"
      ]
     },
     "execution_count": 6,
     "metadata": {},
     "output_type": "execute_result"
    }
   ],
   "source": [
    "from chariot.dataset_preprocessor import DatasetPreprocessor\n",
    "from chariot.transformer.formatter import Padding\n",
    "\n",
    "\n",
    "pad_length = 300\n",
    "\n",
    "dp = DatasetPreprocessor()\n",
    "dp.process(\"review\")\\\n",
    "    .by(ct.text.UnicodeNormalizer())\\\n",
    "    .by(ct.Tokenizer(\"en\"))\\\n",
    "    .by(ct.Tokenizer(\"en\"))\\\n",
    "    .by(ct.token.StopwordFilter(\"en\"))\\\n",
    "    .by(ct.Vocabulary(min_df=5, max_df=0.5))\\\n",
    "    .by(Padding(length=pad_length))\\\n",
    "    .fit(r.train_data()[\"review\"])"
   ]
  },
  {
   "cell_type": "markdown",
   "metadata": {},
   "source": [
    "## Load the pretrained word embedding GloVe"
   ]
  },
  {
   "cell_type": "code",
   "execution_count": 7,
   "metadata": {},
   "outputs": [],
   "source": [
    "_ = storage.chakin(name=\"GloVe.6B.200d\")"
   ]
  },
  {
   "cell_type": "code",
   "execution_count": 8,
   "metadata": {},
   "outputs": [
    {
     "name": "stdout",
     "output_type": "stream",
     "text": [
      "(11770, 200)\n"
     ]
    }
   ],
   "source": [
    "embedding = review_processor.vocabulary.make_embedding(storage.data_path(\"external/glove.6B.200d.txt\"))\n",
    "print(embedding.shape)"
   ]
  },
  {
   "cell_type": "markdown",
   "metadata": {},
   "source": [
    "## Make model by TensorFlow"
   ]
  },
  {
   "cell_type": "markdown",
   "metadata": {},
   "source": [
    "### Test baseline model"
   ]
  },
  {
   "cell_type": "code",
   "execution_count": 9,
   "metadata": {},
   "outputs": [
    {
     "name": "stdout",
     "output_type": "stream",
     "text": [
      "0.83\n"
     ]
    }
   ],
   "source": [
    "from sklearn.feature_extraction.text import TfidfVectorizer\n",
    "from sklearn.linear_model import LogisticRegression\n",
    "from sklearn.model_selection import train_test_split\n",
    "from sklearn import metrics\n",
    "\n",
    "\n",
    "def test_baseline(train, test):\n",
    "    X = train[\"review\"]\n",
    "    y = train[\"polarity\"]\n",
    "    vectorizer = TfidfVectorizer()\n",
    "    X_vector = vectorizer.fit_transform(X)\n",
    "\n",
    "    classifier = LogisticRegression(solver=\"liblinear\")\n",
    "    classifier.fit(X_vector, y)\n",
    "\n",
    "    predict = classifier.predict(vectorizer.transform(test[\"review\"]))\n",
    "    score = metrics.accuracy_score(test[\"polarity\"], predict)\n",
    "\n",
    "    print(score)\n",
    "\n",
    "test_baseline(r.train_data(), r.test_data())"
   ]
  },
  {
   "cell_type": "markdown",
   "metadata": {},
   "source": [
    "### Make model"
   ]
  },
  {
   "cell_type": "code",
   "execution_count": 10,
   "metadata": {},
   "outputs": [],
   "source": [
    "from tensorflow.python import keras as K\n",
    "\n",
    "\n",
    "vocab_size = dp.process(\"review\").preprocessor.vocabulary.count\n",
    "padding_index = dp.process(\"review\").preprocessor.vocabulary.pad\n",
    "embedding_size = 200\n",
    "\n",
    "def make_model():\n",
    "    model = K.Sequential()\n",
    "    model.add(K.layers.Masking(mask_value=padding_index, input_shape=(pad_length,)))\n",
    "    model.add(K.layers.Embedding(vocab_size, embedding_size, weights=[embedding]))\n",
    "    model.add(K.layers.Lambda(lambda x: K.backend.mean(x, axis=1)))\n",
    "    model.add(K.layers.Dense(1, activation=\"sigmoid\"))\n",
    "    return model\n",
    "\n",
    "model = make_model()\n",
    "model.compile(loss=\"binary_crossentropy\",\n",
    "              optimizer=\"adam\",\n",
    "              metrics=[\"accuracy\"])"
   ]
  },
  {
   "cell_type": "markdown",
   "metadata": {},
   "source": [
    "### Train the model"
   ]
  },
  {
   "cell_type": "code",
   "execution_count": 11,
   "metadata": {},
   "outputs": [
    {
     "name": "stderr",
     "output_type": "stream",
     "text": [
      "/Users/smap6/.pyenv/versions/miniconda3-3.9.1/envs/chariot/lib/python3.6/site-packages/chazutsu/datasets/framework/resource.py:106: FutureWarning: read_table is deprecated, use read_csv instead, passing sep='\\t'.\n",
      "  df = pd.read_table(path, header=None, names=self.columns)\n"
     ]
    }
   ],
   "source": [
    "formatted = dp(r.train_data()).preprocess().format().processed"
   ]
  },
  {
   "cell_type": "code",
   "execution_count": 12,
   "metadata": {},
   "outputs": [
    {
     "name": "stdout",
     "output_type": "stream",
     "text": [
      "(1400, 300)\n",
      "(1400,)\n"
     ]
    }
   ],
   "source": [
    "import numpy as np\n",
    "\n",
    "print(formatted[\"review\"].shape)\n",
    "print(formatted[\"polarity\"].shape)"
   ]
  },
  {
   "cell_type": "code",
   "execution_count": 13,
   "metadata": {},
   "outputs": [
    {
     "name": "stderr",
     "output_type": "stream",
     "text": [
      "/Users/smap6/.pyenv/versions/miniconda3-3.9.1/envs/chariot/lib/python3.6/site-packages/tensorflow/python/ops/gradients_impl.py:112: UserWarning: Converting sparse IndexedSlices to a dense Tensor of unknown shape. This may consume a large amount of memory.\n",
      "  \"Converting sparse IndexedSlices to a dense Tensor of unknown shape. \"\n"
     ]
    },
    {
     "name": "stdout",
     "output_type": "stream",
     "text": [
      "Train on 1120 samples, validate on 280 samples\n",
      "Epoch 1/15\n",
      " - 2s - loss: 0.6904 - acc: 0.5571 - val_loss: 0.6854 - val_acc: 0.6000\n",
      "Epoch 2/15\n",
      " - 2s - loss: 0.6780 - acc: 0.6973 - val_loss: 0.6795 - val_acc: 0.6464\n",
      "Epoch 3/15\n",
      " - 2s - loss: 0.6649 - acc: 0.7643 - val_loss: 0.6730 - val_acc: 0.6929\n",
      "Epoch 4/15\n",
      " - 2s - loss: 0.6488 - acc: 0.8080 - val_loss: 0.6650 - val_acc: 0.7036\n",
      "Epoch 5/15\n",
      " - 2s - loss: 0.6281 - acc: 0.8357 - val_loss: 0.6549 - val_acc: 0.6964\n",
      "Epoch 6/15\n",
      " - 2s - loss: 0.6023 - acc: 0.8598 - val_loss: 0.6427 - val_acc: 0.7071\n",
      "Epoch 7/15\n",
      " - 2s - loss: 0.5702 - acc: 0.8830 - val_loss: 0.6300 - val_acc: 0.7036\n",
      "Epoch 8/15\n",
      " - 2s - loss: 0.5339 - acc: 0.9089 - val_loss: 0.6169 - val_acc: 0.7250\n",
      "Epoch 9/15\n",
      " - 2s - loss: 0.4924 - acc: 0.9295 - val_loss: 0.6014 - val_acc: 0.7143\n",
      "Epoch 10/15\n",
      " - 2s - loss: 0.4497 - acc: 0.9411 - val_loss: 0.5858 - val_acc: 0.7429\n",
      "Epoch 11/15\n",
      " - 2s - loss: 0.4055 - acc: 0.9634 - val_loss: 0.5719 - val_acc: 0.7429\n",
      "Epoch 12/15\n",
      " - 2s - loss: 0.3640 - acc: 0.9661 - val_loss: 0.5600 - val_acc: 0.7321\n",
      "Epoch 13/15\n",
      " - 2s - loss: 0.3247 - acc: 0.9777 - val_loss: 0.5465 - val_acc: 0.7500\n",
      "Epoch 14/15\n",
      " - 2s - loss: 0.2875 - acc: 0.9839 - val_loss: 0.5342 - val_acc: 0.7393\n",
      "Epoch 15/15\n",
      " - 1s - loss: 0.2544 - acc: 0.9875 - val_loss: 0.5238 - val_acc: 0.7571\n"
     ]
    },
    {
     "data": {
      "text/plain": [
       "<tensorflow.python.keras.callbacks.History at 0x161a3d860>"
      ]
     },
     "execution_count": 13,
     "metadata": {},
     "output_type": "execute_result"
    }
   ],
   "source": [
    "model.fit(formatted[\"review\"], formatted[\"polarity\"], batch_size=32,\n",
    "                 validation_split=0.2, epochs=15, verbose=2)"
   ]
  },
  {
   "cell_type": "markdown",
   "metadata": {},
   "source": [
    "### Evaluate the model"
   ]
  },
  {
   "cell_type": "code",
   "execution_count": 14,
   "metadata": {},
   "outputs": [],
   "source": [
    "test_dataset = dp(r.test_data()).preprocess().format().processed"
   ]
  },
  {
   "cell_type": "code",
   "execution_count": 15,
   "metadata": {},
   "outputs": [
    {
     "name": "stdout",
     "output_type": "stream",
     "text": [
      "600/600 [==============================] - 0s 84us/step\n"
     ]
    }
   ],
   "source": [
    "score, acc = model.evaluate(test_dataset[\"review\"], test_dataset[\"polarity\"], batch_size=32)"
   ]
  },
  {
   "cell_type": "code",
   "execution_count": 16,
   "metadata": {},
   "outputs": [
    {
     "name": "stdout",
     "output_type": "stream",
     "text": [
      "Loss: 0.4994762086868286, Accuracy: 0.7916666666666666\n"
     ]
    }
   ],
   "source": [
    "print(\"Loss: {}, Accuracy: {}\".format(score, acc))"
   ]
  },
  {
   "cell_type": "markdown",
   "metadata": {},
   "source": [
    "## Model & Preprocessor persistence"
   ]
  },
  {
   "cell_type": "code",
   "execution_count": 18,
   "metadata": {},
   "outputs": [
    {
     "name": "stdout",
     "output_type": "stream",
     "text": [
      "save models\n"
     ]
    }
   ],
   "source": [
    "import json\n",
    "from sklearn.externals import joblib\n",
    "\n",
    "\n",
    "if not os.path.exists(\"models\"):\n",
    "    os.mkdir(\"models\")\n",
    "\n",
    "model.save(\"models/sentiment_model.h5\")\n",
    "dp.save(\"models/movie_dp.tar.gz\")\n",
    "print(\"save models\")"
   ]
  },
  {
   "cell_type": "markdown",
   "metadata": {},
   "source": [
    "### Load"
   ]
  },
  {
   "cell_type": "code",
   "execution_count": 19,
   "metadata": {},
   "outputs": [],
   "source": [
    "loaded_dp = DatasetPreprocessor.load(\"models/movie_dp.tar.gz\")"
   ]
  },
  {
   "cell_type": "code",
   "execution_count": 20,
   "metadata": {},
   "outputs": [
    {
     "name": "stdout",
     "output_type": "stream",
     "text": [
      "600/600 [==============================] - 0s 127us/step\n"
     ]
    }
   ],
   "source": [
    "test_dataset = loaded_dp(r.test_data()).preprocess().format().processed\n",
    "score, acc = model.evaluate(test_dataset[\"review\"], test_dataset[\"polarity\"], batch_size=32)"
   ]
  },
  {
   "cell_type": "code",
   "execution_count": 21,
   "metadata": {},
   "outputs": [
    {
     "name": "stdout",
     "output_type": "stream",
     "text": [
      "Loss: 0.4994762086868286, Accuracy: 0.7916666666666666\n"
     ]
    }
   ],
   "source": [
    "print(\"Loss: {}, Accuracy: {}\".format(score, acc))"
   ]
  },
  {
   "cell_type": "code",
   "execution_count": null,
   "metadata": {},
   "outputs": [],
   "source": []
  }
 ],
 "metadata": {
  "kernelspec": {
   "display_name": "Python 3",
   "language": "python",
   "name": "python3"
  },
  "language_info": {
   "codemirror_mode": {
    "name": "ipython",
    "version": 3
   },
   "file_extension": ".py",
   "mimetype": "text/x-python",
   "name": "python",
   "nbconvert_exporter": "python",
   "pygments_lexer": "ipython3",
   "version": "3.6.8"
  }
 },
 "nbformat": 4,
 "nbformat_minor": 2
}
