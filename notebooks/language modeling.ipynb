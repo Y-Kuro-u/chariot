{
 "cells": [
  {
   "cell_type": "markdown",
   "metadata": {},
   "source": [
    "# Language Modeling\n",
    "\n",
    "\n",
    "Let's try the language modeling task by using chariot and Tensorflow.\n",
    "\n",
    "* Download the WikiText2 dataset by chazutsu.\n",
    "* Preprocess WikiText2 by chariot.\n",
    "* Make model by TensorFlow (use tf.keras).\n",
    "* Train & evaluate the model.\n",
    "\n",
    "This tutorial needs following libraries.\n",
    "\n",
    "* chazutsu\n",
    "* tensorflow\n",
    "* matplotlib\n"
   ]
  },
  {
   "cell_type": "markdown",
   "metadata": {},
   "source": [
    "## Prepare the packages"
   ]
  },
  {
   "cell_type": "code",
   "execution_count": 1,
   "metadata": {},
   "outputs": [],
   "source": [
    "import os\n",
    "import sys\n",
    "from pathlib import Path\n",
    "import numpy as np\n",
    "import pandas as pd\n",
    "import matplotlib as plt"
   ]
  },
  {
   "cell_type": "code",
   "execution_count": 2,
   "metadata": {},
   "outputs": [],
   "source": [
    "%load_ext autoreload\n",
    "%autoreload 2\n",
    "%matplotlib inline"
   ]
  },
  {
   "cell_type": "code",
   "execution_count": 3,
   "metadata": {},
   "outputs": [],
   "source": [
    "def set_path():\n",
    "    if \"../\" not in sys.path:\n",
    "        sys.path.append(\"../\")\n",
    "    root_dir = Path.cwd()\n",
    "    return root_dir\n",
    "\n",
    "ROOT_DIR = set_path()"
   ]
  },
  {
   "cell_type": "markdown",
   "metadata": {},
   "source": [
    "## Download the Language Modeling Data"
   ]
  },
  {
   "cell_type": "code",
   "execution_count": 4,
   "metadata": {},
   "outputs": [
    {
     "name": "stdout",
     "output_type": "stream",
     "text": [
      "Read resource from the existed resource(if you want to retry, set force=True).\n"
     ]
    }
   ],
   "source": [
    "import chazutsu\n",
    "from chariot.storage import Storage\n",
    "\n",
    "storage = Storage.setup_data_dir(ROOT_DIR)\n",
    "r = chazutsu.datasets.WikiText2().download(storage.data_path(\"raw\"))"
   ]
  },
  {
   "cell_type": "code",
   "execution_count": 5,
   "metadata": {
    "scrolled": true
   },
   "outputs": [
    {
     "data": {
      "text/html": [
       "<div>\n",
       "<style scoped>\n",
       "    .dataframe tbody tr th:only-of-type {\n",
       "        vertical-align: middle;\n",
       "    }\n",
       "\n",
       "    .dataframe tbody tr th {\n",
       "        vertical-align: top;\n",
       "    }\n",
       "\n",
       "    .dataframe thead th {\n",
       "        text-align: right;\n",
       "    }\n",
       "</style>\n",
       "<table border=\"1\" class=\"dataframe\">\n",
       "  <thead>\n",
       "    <tr style=\"text-align: right;\">\n",
       "      <th></th>\n",
       "      <th>sentence</th>\n",
       "    </tr>\n",
       "  </thead>\n",
       "  <tbody>\n",
       "    <tr>\n",
       "      <th>0</th>\n",
       "      <td>= Valkyria Chronicles III =</td>\n",
       "    </tr>\n",
       "    <tr>\n",
       "      <th>1</th>\n",
       "      <td>Senjō no Valkyria 3 : &lt;unk&gt; Chronicles ( Japa...</td>\n",
       "    </tr>\n",
       "    <tr>\n",
       "      <th>2</th>\n",
       "      <td>The game began development in 2010 , carrying...</td>\n",
       "    </tr>\n",
       "  </tbody>\n",
       "</table>\n",
       "</div>"
      ],
      "text/plain": [
       "                                            sentence\n",
       "0                       = Valkyria Chronicles III = \n",
       "1   Senjō no Valkyria 3 : <unk> Chronicles ( Japa...\n",
       "2   The game began development in 2010 , carrying..."
      ]
     },
     "execution_count": 5,
     "metadata": {},
     "output_type": "execute_result"
    }
   ],
   "source": [
    "r.train_data().head(3)"
   ]
  },
  {
   "cell_type": "markdown",
   "metadata": {},
   "source": [
    "## Preprocess the review text by chariot."
   ]
  },
  {
   "cell_type": "markdown",
   "metadata": {},
   "source": [
    "### Make preprocessor"
   ]
  },
  {
   "cell_type": "code",
   "execution_count": 6,
   "metadata": {},
   "outputs": [],
   "source": [
    "import chariot.transformer as ct\n",
    "from chariot.preprocessor import Preprocessor\n",
    "\n",
    "\n",
    "lm_processor = Preprocessor(\n",
    "                    text_transformers=[\n",
    "                        ct.text.UnicodeNormalizer(),\n",
    "                        ct.text.LowerNormalizer()\n",
    "                    ],\n",
    "                    tokenizer=ct.Tokenizer(lang=None),\n",
    "                    vocabulary=ct.Vocabulary(min_df=5))\n",
    "\n",
    "preprocessed = lm_processor.fit_transform(r.valid_data())"
   ]
  },
  {
   "cell_type": "code",
   "execution_count": 7,
   "metadata": {},
   "outputs": [
    {
     "name": "stdout",
     "output_type": "stream",
     "text": [
      "4321\n"
     ]
    }
   ],
   "source": [
    "print(len(lm_processor.vocabulary.get()))"
   ]
  },
  {
   "cell_type": "markdown",
   "metadata": {},
   "source": [
    "## Make model by TensorFlow"
   ]
  },
  {
   "cell_type": "code",
   "execution_count": 8,
   "metadata": {},
   "outputs": [],
   "source": [
    "from tensorflow.python import keras as K\n",
    "\n",
    "\n",
    "vocab_size = lm_processor.vocabulary.count\n",
    "embedding_size = 100\n",
    "hidden_size = 100\n",
    "batch_size = 20\n",
    "sequence_length = 35\n",
    "\n",
    "\n",
    "def make_model(vocab_size, embedding_size, hidden_size, dropout=0.5):\n",
    "    initializer = K.initializers.RandomUniform(minval=-0.1, maxval=0.1)\n",
    "    model = K.Sequential()\n",
    "    model.add(K.layers.Embedding(input_dim=vocab_size, output_dim=embedding_size,\n",
    "                                 embeddings_initializer=initializer))\n",
    "    model.add(K.layers.Dropout(dropout))\n",
    "    model.add(K.layers.LSTM(hidden_size))\n",
    "    model.add(K.layers.Dropout(dropout))\n",
    "    model.add(K.layers.Dense(vocab_size, activation=\"softmax\",\n",
    "                             kernel_initializer=initializer))\n",
    "    return model\n",
    "\n",
    "\n",
    "def perplexity(y_true, y_pred):\n",
    "    cross_entropy = K.backend.mean(K.backend.sparse_categorical_crossentropy(y_true, y_pred))\n",
    "    perplexity = K.backend.exp(cross_entropy)\n",
    "    return perplexity"
   ]
  },
  {
   "cell_type": "code",
   "execution_count": 9,
   "metadata": {},
   "outputs": [],
   "source": [
    "model = make_model(vocab_size, embedding_size, hidden_size)\n",
    "model.compile(loss=\"sparse_categorical_crossentropy\",\n",
    "              optimizer=\"adam\",\n",
    "              metrics=[perplexity])"
   ]
  },
  {
   "cell_type": "markdown",
   "metadata": {},
   "source": [
    "## Train the Model"
   ]
  },
  {
   "cell_type": "code",
   "execution_count": 10,
   "metadata": {},
   "outputs": [],
   "source": [
    "class ReportCallback(K.callbacks.Callback):\n",
    "\n",
    "    def on_epoch_end(self, epoch, logs={}):\n",
    "        print(\"Epoch {}: perplexity={}, loss={}, val_perplexity={}, val_loss={},\".format(\n",
    "                epoch, logs[\"perplexity\"], logs[\"loss\"], logs[\"val_perplexity\"], logs[\"val_loss\"]))"
   ]
  },
  {
   "cell_type": "code",
   "execution_count": 11,
   "metadata": {},
   "outputs": [],
   "source": [
    "from chariot.feeder import LanguageModelFeeder\n",
    "\n",
    "\n",
    "generator_step = {\"valid\":{}, \"test\": {}}\n",
    "for kind in generator_step:\n",
    "    if kind == \"valid\":\n",
    "        data = preprocessed\n",
    "    else:\n",
    "        data = lm_processor.transform(r.test_data())\n",
    "\n",
    "    feeder = LanguageModelFeeder({\"sentence\": ct.formatter.ShiftGenerator()})\n",
    "    steps_per_epoch, generator = feeder.make_generator(data, batch_size=batch_size,\n",
    "                                                       sequence_length=sequence_length,\n",
    "                                                       sequencial=False)\n",
    "    generator_step[kind][\"s\"] = steps_per_epoch\n",
    "    generator_step[kind][\"g\"] = generator()"
   ]
  },
  {
   "cell_type": "code",
   "execution_count": 12,
   "metadata": {},
   "outputs": [
    {
     "name": "stderr",
     "output_type": "stream",
     "text": [
      "c:\\users\\ico\\documents\\works\\chariot\\venv\\lib\\site-packages\\tensorflow\\python\\ops\\gradients_impl.py:100: UserWarning: Converting sparse IndexedSlices to a dense Tensor of unknown shape. This may consume a large amount of memory.\n",
      "  \"Converting sparse IndexedSlices to a dense Tensor of unknown shape. \"\n"
     ]
    },
    {
     "name": "stdout",
     "output_type": "stream",
     "text": [
      "Epoch 0: perplexity=244.97457648294812, loss=5.10353489501288, val_perplexity=120.71387894057659, val_loss=4.472375059601565,\n",
      "Epoch 1: perplexity=177.78400755876103, loss=4.843199212954995, val_perplexity=107.5903396497481, val_loss=4.346049527629241,\n",
      "Epoch 2: perplexity=157.48715339026757, loss=4.719259876821151, val_perplexity=102.40556391636886, val_loss=4.300950700740463,\n",
      "Epoch 3: perplexity=143.58449326902257, loss=4.630188016067141, val_perplexity=98.6503278849318, val_loss=4.249957397027923,\n",
      "Epoch 4: perplexity=134.90386063745822, loss=4.569199797293468, val_perplexity=93.19303302265078, val_loss=4.199935515224193,\n",
      "Epoch 5: perplexity=127.13348013948459, loss=4.514451115971114, val_perplexity=94.3414631057366, val_loss=4.196338434001432,\n",
      "Epoch 6: perplexity=121.88018428207451, loss=4.475763822087469, val_perplexity=91.68357086200591, val_loss=4.172137596248337,\n",
      "Epoch 7: perplexity=117.93703318940308, loss=4.441510927777828, val_perplexity=88.59471916979483, val_loss=4.142741659276235,\n",
      "Epoch 8: perplexity=114.33917961997058, loss=4.410051562510138, val_perplexity=89.79373086890473, val_loss=4.15627783371688,\n",
      "Epoch 9: perplexity=111.59637628698373, loss=4.391131037677987, val_perplexity=89.3674304459975, val_loss=4.141036304951425,\n"
     ]
    }
   ],
   "source": [
    "metrics = model.fit_generator(generator_step[\"valid\"][\"g\"], generator_step[\"valid\"][\"s\"],\n",
    "                              validation_data=generator_step[\"test\"][\"g\"], validation_steps=generator_step[\"valid\"][\"s\"],\n",
    "                              epochs=10, verbose=0, callbacks=[ReportCallback()])"
   ]
  },
  {
   "cell_type": "code",
   "execution_count": 13,
   "metadata": {},
   "outputs": [
    {
     "data": {
      "text/plain": [
       "<matplotlib.axes._subplots.AxesSubplot at 0x26f5ab60eb8>"
      ]
     },
     "execution_count": 13,
     "metadata": {},
     "output_type": "execute_result"
    },
    {
     "data": {
      "image/png": "[encoded data removed]",
      "text/plain": [
       "<Figure size 432x288 with 2 Axes>"
      ]
     },
     "metadata": {},
     "output_type": "display_data"
    }
   ],
   "source": [
    "result = pd.DataFrame.from_dict(metrics.history)\n",
    "result.plot.line(secondary_y=[\"loss\", \"val_loss\"])"
   ]
  },
  {
   "cell_type": "markdown",
   "metadata": {},
   "source": [
    "## Try generating the Text"
   ]
  },
  {
   "cell_type": "code",
   "execution_count": 14,
   "metadata": {},
   "outputs": [],
   "source": [
    "def generate_text(seed_text, lm_processor, model, sequence_length=10, iteration=20):\n",
    "    preprocessed = lm_processor.transform([seed_text])[0]\n",
    "\n",
    "    def pad_sequence(tokens, length):\n",
    "        if len(tokens) < length:\n",
    "            pad_size = length - len(tokens)\n",
    "            return tokens + [lm_processor.vocabulary.pad] * pad_size\n",
    "        elif len(tokens) > length:\n",
    "            return tokens[-length:]\n",
    "        else:\n",
    "            return tokens\n",
    "\n",
    "    for _ in range(iteration):\n",
    "        x = pad_sequence(preprocessed, sequence_length)\n",
    "        y = model.predict([x])[0]\n",
    "        w = np.random.choice(np.arange(len(y)), 1, p=y)[0]\n",
    "        preprocessed.append(w)\n",
    "    \n",
    "    decoded = lm_processor.inverse_transform([preprocessed])\n",
    "    text = \" \".join(decoded[0])\n",
    "\n",
    "    return text"
   ]
  },
  {
   "cell_type": "code",
   "execution_count": 15,
   "metadata": {},
   "outputs": [
    {
     "data": {
      "text/plain": [
       "'when you starr @@UNKNOWN@@ year disc [ @@UNKNOWN@@ nine arm @@UNKNOWN@@ believing intelligence writings were group edwards had era his @@UNKNOWN@@ that'"
      ]
     },
     "execution_count": 15,
     "metadata": {},
     "output_type": "execute_result"
    }
   ],
   "source": [
    "generate_text(\"when you\", lm_processor, model)"
   ]
  },
  {
   "cell_type": "code",
   "execution_count": 16,
   "metadata": {},
   "outputs": [
    {
     "data": {
      "text/plain": [
       "\"i wish @@UNKNOWN@@ have performed were 'm states contain was tour @@UNKNOWN@@ @@UNKNOWN@@ been @@UNKNOWN@@ @@UNKNOWN@@ @@UNKNOWN@@ @@UNKNOWN@@ @@UNKNOWN@@ white @@UNKNOWN@@ @@UNKNOWN@@ @@UNKNOWN@@\""
      ]
     },
     "execution_count": 16,
     "metadata": {},
     "output_type": "execute_result"
    }
   ],
   "source": [
    "generate_text(\"i wish to\", lm_processor, model)"
   ]
  },
  {
   "cell_type": "code",
   "execution_count": null,
   "metadata": {},
   "outputs": [],
   "source": []
  }
 ],
 "metadata": {
  "kernelspec": {
   "display_name": "Python 3",
   "language": "python",
   "name": "python3"
  },
  "language_info": {
   "codemirror_mode": {
    "name": "ipython",
    "version": 3
   },
   "file_extension": ".py",
   "mimetype": "text/x-python",
   "name": "python",
   "nbconvert_exporter": "python",
   "pygments_lexer": "ipython3",
   "version": "3.6.4"
  }
 },
 "nbformat": 4,
 "nbformat_minor": 2
}
