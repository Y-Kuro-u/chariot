{
 "cells": [
  {
   "cell_type": "markdown",
   "metadata": {},
   "source": [
    "# Language Modeling\n",
    "\n",
    "\n",
    "Let's try the language modeling task by using chariot and Tensorflow.\n",
    "\n",
    "* Download the WikiText2 dataset by chazutsu.\n",
    "* Preprocess WikiText2 by chariot.\n",
    "* Make model by TensorFlow (use tf.keras).\n",
    "* Train & evaluate the model.\n",
    "\n",
    "This tutorial needs following libraries.\n",
    "\n",
    "* chazutsu\n",
    "* tensorflow\n",
    "* matplotlib\n"
   ]
  },
  {
   "cell_type": "markdown",
   "metadata": {},
   "source": [
    "## Prepare the packages"
   ]
  },
  {
   "cell_type": "code",
   "execution_count": 1,
   "metadata": {},
   "outputs": [],
   "source": [
    "import os\n",
    "import sys\n",
    "from pathlib import Path\n",
    "import numpy as np\n",
    "import pandas as pd\n",
    "import matplotlib as plt"
   ]
  },
  {
   "cell_type": "code",
   "execution_count": 2,
   "metadata": {},
   "outputs": [],
   "source": [
    "%load_ext autoreload\n",
    "%autoreload 2\n",
    "%matplotlib inline"
   ]
  },
  {
   "cell_type": "code",
   "execution_count": 3,
   "metadata": {},
   "outputs": [],
   "source": [
    "def set_path():\n",
    "    if \"../\" not in sys.path:\n",
    "        sys.path.append(\"../\")\n",
    "    root_dir = Path.cwd()\n",
    "    return root_dir\n",
    "\n",
    "ROOT_DIR = set_path()"
   ]
  },
  {
   "cell_type": "markdown",
   "metadata": {},
   "source": [
    "## Download the Language Modeling Data"
   ]
  },
  {
   "cell_type": "code",
   "execution_count": 4,
   "metadata": {},
   "outputs": [
    {
     "name": "stdout",
     "output_type": "stream",
     "text": [
      "Read resource from the existed resource(if you want to retry, set force=True).\n"
     ]
    }
   ],
   "source": [
    "import chazutsu\n",
    "from chariot.storage import Storage\n",
    "\n",
    "storage = Storage.setup_data_dir(ROOT_DIR)\n",
    "r = chazutsu.datasets.WikiText2().download(storage.data_path(\"raw\"))"
   ]
  },
  {
   "cell_type": "code",
   "execution_count": 5,
   "metadata": {
    "scrolled": true
   },
   "outputs": [
    {
     "data": {
      "text/html": [
       "<div>\n",
       "<style scoped>\n",
       "    .dataframe tbody tr th:only-of-type {\n",
       "        vertical-align: middle;\n",
       "    }\n",
       "\n",
       "    .dataframe tbody tr th {\n",
       "        vertical-align: top;\n",
       "    }\n",
       "\n",
       "    .dataframe thead th {\n",
       "        text-align: right;\n",
       "    }\n",
       "</style>\n",
       "<table border=\"1\" class=\"dataframe\">\n",
       "  <thead>\n",
       "    <tr style=\"text-align: right;\">\n",
       "      <th></th>\n",
       "      <th>sentence</th>\n",
       "    </tr>\n",
       "  </thead>\n",
       "  <tbody>\n",
       "    <tr>\n",
       "      <th>0</th>\n",
       "      <td>= Valkyria Chronicles III =</td>\n",
       "    </tr>\n",
       "    <tr>\n",
       "      <th>1</th>\n",
       "      <td>Senjō no Valkyria 3 : &lt;unk&gt; Chronicles ( Japa...</td>\n",
       "    </tr>\n",
       "    <tr>\n",
       "      <th>2</th>\n",
       "      <td>The game began development in 2010 , carrying...</td>\n",
       "    </tr>\n",
       "  </tbody>\n",
       "</table>\n",
       "</div>"
      ],
      "text/plain": [
       "                                            sentence\n",
       "0                       = Valkyria Chronicles III = \n",
       "1   Senjō no Valkyria 3 : <unk> Chronicles ( Japa...\n",
       "2   The game began development in 2010 , carrying..."
      ]
     },
     "execution_count": 5,
     "metadata": {},
     "output_type": "execute_result"
    }
   ],
   "source": [
    "r.train_data().head(3)"
   ]
  },
  {
   "cell_type": "markdown",
   "metadata": {},
   "source": [
    "## Preprocess the review text by chariot."
   ]
  },
  {
   "cell_type": "markdown",
   "metadata": {},
   "source": [
    "### Make preprocessor"
   ]
  },
  {
   "cell_type": "code",
   "execution_count": 6,
   "metadata": {},
   "outputs": [],
   "source": [
    "import chariot.transformer as ct\n",
    "from chariot.preprocessor import Preprocessor\n",
    "\n",
    "\n",
    "lm_processor = Preprocessor(\n",
    "                    text_transformers=[\n",
    "                        ct.text.UnicodeNormalizer(),\n",
    "                        ct.text.LowerNormalizer()\n",
    "                    ],\n",
    "                    tokenizer=ct.Tokenizer(lang=None),\n",
    "                    vocabulary=ct.Vocabulary(min_df=5))\n",
    "\n",
    "preprocessed = lm_processor.fit_transform(r.valid_data())"
   ]
  },
  {
   "cell_type": "code",
   "execution_count": 7,
   "metadata": {},
   "outputs": [
    {
     "name": "stdout",
     "output_type": "stream",
     "text": [
      "4321\n"
     ]
    }
   ],
   "source": [
    "print(len(lm_processor.vocabulary.get()))"
   ]
  },
  {
   "cell_type": "markdown",
   "metadata": {},
   "source": [
    "## Make model by TensorFlow"
   ]
  },
  {
   "cell_type": "code",
   "execution_count": 8,
   "metadata": {},
   "outputs": [],
   "source": [
    "from tensorflow.python import keras as K\n",
    "\n",
    "\n",
    "vocab_size = lm_processor.vocabulary.count\n",
    "embedding_size = 100\n",
    "hidden_size = 100\n",
    "batch_size = 20\n",
    "sequence_length = 35\n",
    "\n",
    "\n",
    "def make_model(vocab_size, embedding_size, hidden_size, dropout=0.5):\n",
    "    initializer = K.initializers.RandomUniform(minval=-0.1, maxval=0.1)\n",
    "    model = K.Sequential()\n",
    "    model.add(K.layers.Embedding(input_dim=vocab_size, output_dim=embedding_size,\n",
    "                                 embeddings_initializer=initializer))\n",
    "    model.add(K.layers.Dropout(dropout))\n",
    "    model.add(K.layers.LSTM(hidden_size, return_sequences=True))\n",
    "    model.add(K.layers.Dropout(dropout))\n",
    "    model.add(K.layers.TimeDistributed(K.layers.Dense(vocab_size, activation=\"softmax\",\n",
    "                                       kernel_initializer=initializer)))\n",
    "    return model\n",
    "\n",
    "\n",
    "def perplexity(y_true, y_pred):\n",
    "    cross_entropy = K.backend.mean(K.backend.sparse_categorical_crossentropy(y_true, y_pred))\n",
    "    perplexity = K.backend.exp(cross_entropy)\n",
    "    return perplexity"
   ]
  },
  {
   "cell_type": "code",
   "execution_count": 9,
   "metadata": {},
   "outputs": [],
   "source": [
    "model = make_model(vocab_size, embedding_size, hidden_size)\n",
    "model.compile(loss=\"sparse_categorical_crossentropy\",\n",
    "              optimizer=\"adam\",\n",
    "              metrics=[perplexity])"
   ]
  },
  {
   "cell_type": "markdown",
   "metadata": {},
   "source": [
    "## Train the Model"
   ]
  },
  {
   "cell_type": "code",
   "execution_count": 10,
   "metadata": {},
   "outputs": [],
   "source": [
    "class ReportCallback(K.callbacks.Callback):\n",
    "\n",
    "    def on_epoch_end(self, epoch, logs={}):\n",
    "        print(\"Epoch {}: perplexity={}, loss={}, val_perplexity={}, val_loss={},\".format(\n",
    "                epoch, logs[\"perplexity\"], logs[\"loss\"], logs[\"val_perplexity\"], logs[\"val_loss\"]))"
   ]
  },
  {
   "cell_type": "code",
   "execution_count": 11,
   "metadata": {},
   "outputs": [],
   "source": [
    "from chariot.feeder import LanguageModelFeeder\n",
    "\n",
    "\n",
    "generator_step = {\"valid\":{}, \"test\": {}}\n",
    "for kind in generator_step:\n",
    "    if kind == \"valid\":\n",
    "        data = preprocessed\n",
    "    else:\n",
    "        data = lm_processor.transform(r.test_data())\n",
    "\n",
    "    feeder = LanguageModelFeeder({\"sentence\": ct.formatter.ShiftGenerator()})\n",
    "    steps_per_epoch, generator = feeder.make_generator(data, batch_size=batch_size,\n",
    "                                                       sequence_length=sequence_length,\n",
    "                                                       sequencial=False)\n",
    "    generator_step[kind][\"s\"] = steps_per_epoch\n",
    "    generator_step[kind][\"g\"] = generator()"
   ]
  },
  {
   "cell_type": "code",
   "execution_count": 12,
   "metadata": {},
   "outputs": [
    {
     "name": "stderr",
     "output_type": "stream",
     "text": [
      "c:\\users\\ico\\documents\\works\\chariot\\venv\\lib\\site-packages\\tensorflow\\python\\ops\\gradients_impl.py:100: UserWarning: Converting sparse IndexedSlices to a dense Tensor of unknown shape. This may consume a large amount of memory.\n",
      "  \"Converting sparse IndexedSlices to a dense Tensor of unknown shape. \"\n"
     ]
    },
    {
     "name": "stdout",
     "output_type": "stream",
     "text": [
      "Epoch 0: perplexity=404.3316199881132, loss=5.516678117533199, val_perplexity=103.2574625734423, val_loss=4.624955217955542,\n",
      "Epoch 1: perplexity=174.30620332311412, loss=5.150156605829958, val_perplexity=98.09943379886815, val_loss=4.573781265196253,\n",
      "Epoch 2: perplexity=162.0681402737977, loss=5.077702806816727, val_perplexity=94.53628233612561, val_loss=4.537358826496562,\n",
      "Epoch 3: perplexity=152.5394281356061, loss=5.017206908054039, val_perplexity=93.38036886746767, val_loss=4.5248989183394634,\n",
      "Epoch 4: perplexity=145.68689702768796, loss=4.9715199830102135, val_perplexity=92.41725956651031, val_loss=4.515306969939685,\n",
      "Epoch 5: perplexity=140.14985163954438, loss=4.932668363852579, val_perplexity=90.70973715860336, val_loss=4.496611767127866,\n",
      "Epoch 6: perplexity=135.3504690201556, loss=4.898550621407931, val_perplexity=87.97225554419346, val_loss=4.465097427368164,\n",
      "Epoch 7: perplexity=130.41064958416047, loss=4.861548176749808, val_perplexity=86.34005807345031, val_loss=4.447460301195989,\n",
      "Epoch 8: perplexity=126.90661798696048, loss=4.8341281609457045, val_perplexity=84.39658146842581, val_loss=4.4245804974290195,\n",
      "Epoch 9: perplexity=123.43459530189389, loss=4.806705781280018, val_perplexity=84.4347421364706, val_loss=4.4249939011745765,\n"
     ]
    }
   ],
   "source": [
    "metrics = model.fit_generator(generator_step[\"valid\"][\"g\"], generator_step[\"valid\"][\"s\"],\n",
    "                              validation_data=generator_step[\"test\"][\"g\"], validation_steps=generator_step[\"valid\"][\"s\"],\n",
    "                              epochs=10, verbose=0, callbacks=[ReportCallback()])"
   ]
  },
  {
   "cell_type": "code",
   "execution_count": 13,
   "metadata": {},
   "outputs": [
    {
     "data": {
      "text/plain": [
       "<matplotlib.axes._subplots.AxesSubplot at 0x19aa7f716d8>"
      ]
     },
     "execution_count": 13,
     "metadata": {},
     "output_type": "execute_result"
    },
    {
     "data": {
      "image/png": "[encoded data removed]",
      "text/plain": [
       "<Figure size 432x288 with 2 Axes>"
      ]
     },
     "metadata": {},
     "output_type": "display_data"
    }
   ],
   "source": [
    "result = pd.DataFrame.from_dict(metrics.history)\n",
    "result.plot.line(secondary_y=[\"loss\", \"val_loss\"])"
   ]
  },
  {
   "cell_type": "code",
   "execution_count": 14,
   "metadata": {},
   "outputs": [
    {
     "data": {
      "text/plain": [
       "<matplotlib.axes._subplots.AxesSubplot at 0x19aa77f3c18>"
      ]
     },
     "execution_count": 14,
     "metadata": {},
     "output_type": "execute_result"
    },
    {
     "data": {
      "image/png": "[encoded data removed]",
      "text/plain": [
       "<Figure size 432x288 with 2 Axes>"
      ]
     },
     "metadata": {},
     "output_type": "display_data"
    }
   ],
   "source": [
    "result[[\"val_perplexity\", \"val_loss\"]].plot.line(secondary_y=[\"val_loss\"])"
   ]
  },
  {
   "cell_type": "markdown",
   "metadata": {},
   "source": [
    "## Try generating the Text"
   ]
  },
  {
   "cell_type": "code",
   "execution_count": 15,
   "metadata": {},
   "outputs": [],
   "source": [
    "def generate_text(seed_text, lm_processor, model, sequence_length=10, iteration=20):\n",
    "    preprocessed = lm_processor.transform([seed_text])[0]\n",
    "\n",
    "    def pad_sequence(tokens, length):\n",
    "        if len(tokens) < length:\n",
    "            pad_size = length - len(tokens)\n",
    "            return tokens + [lm_processor.vocabulary.pad] * pad_size\n",
    "        elif len(tokens) > length:\n",
    "            return tokens[-length:]\n",
    "        else:\n",
    "            return tokens\n",
    "\n",
    "    for _ in range(iteration):\n",
    "        x = pad_sequence(preprocessed, sequence_length)\n",
    "        y = model.predict([x])\n",
    "        index = min(len(preprocessed) - 1, sequence_length - 1)\n",
    "        target_word_probs = y[index][0]\n",
    "        w = np.random.choice(np.arange(len(target_word_probs)),\n",
    "                             1, p=target_word_probs)[0]\n",
    "        preprocessed.append(w)\n",
    "    \n",
    "    decoded = lm_processor.inverse_transform([preprocessed])\n",
    "    text = \" \".join(decoded[0])\n",
    "\n",
    "    return text"
   ]
  },
  {
   "cell_type": "code",
   "execution_count": 16,
   "metadata": {},
   "outputs": [
    {
     "data": {
      "text/plain": [
       "'when you president @@UNKNOWN@@ drums drawn precipitation verses constitution @@UNKNOWN@@ @@UNKNOWN@@ were removed @@UNKNOWN@@ an treasure causeway 57th titles @@UNKNOWN@@ candidate germans'"
      ]
     },
     "execution_count": 16,
     "metadata": {},
     "output_type": "execute_result"
    }
   ],
   "source": [
    "generate_text(\"when you\", lm_processor, model)"
   ]
  },
  {
   "cell_type": "code",
   "execution_count": 17,
   "metadata": {},
   "outputs": [
    {
     "data": {
      "text/plain": [
       "\"i wish @@UNKNOWN@@ @@UNKNOWN@@ @@UNKNOWN@@ basis men refer @@UNKNOWN@@ ' @@UNKNOWN@@ @@UNKNOWN@@ previous german who minutes @@UNKNOWN@@ @@UNKNOWN@@ @@UNKNOWN@@ here role @@UNKNOWN@@ @@UNKNOWN@@\""
      ]
     },
     "execution_count": 17,
     "metadata": {},
     "output_type": "execute_result"
    }
   ],
   "source": [
    "generate_text(\"i wish to\", lm_processor, model)"
   ]
  },
  {
   "cell_type": "markdown",
   "metadata": {},
   "source": [
    "## Stateful Pattern"
   ]
  },
  {
   "cell_type": "code",
   "execution_count": 18,
   "metadata": {},
   "outputs": [],
   "source": [
    "def make_model_stateful(vocab_size, embedding_size, hidden_size, batch_shape, dropout=0.5):\n",
    "    initializer = K.initializers.RandomUniform(minval=-0.1, maxval=0.1)\n",
    "    model = K.Sequential()\n",
    "    model.add(K.layers.Embedding(input_dim=vocab_size, output_dim=embedding_size,\n",
    "                                 embeddings_initializer=initializer,\n",
    "                                 batch_input_shape=batch_shape))\n",
    "    model.add(K.layers.Dropout(dropout))\n",
    "    model.add(K.layers.LSTM(hidden_size, stateful=True, return_sequences=True))\n",
    "    model.add(K.layers.Dropout(dropout))\n",
    "    model.add(K.layers.TimeDistributed(K.layers.Dense(vocab_size, activation=\"softmax\",\n",
    "                                       kernel_initializer=initializer)))\n",
    "    return model"
   ]
  },
  {
   "cell_type": "code",
   "execution_count": 19,
   "metadata": {},
   "outputs": [],
   "source": [
    "model_s = make_model_stateful(vocab_size, embedding_size, hidden_size, (batch_size, sequence_length))\n",
    "model_s.compile(loss=\"sparse_categorical_crossentropy\",\n",
    "               optimizer=\"adam\",\n",
    "               metrics=[perplexity])"
   ]
  },
  {
   "cell_type": "code",
   "execution_count": 20,
   "metadata": {},
   "outputs": [
    {
     "name": "stderr",
     "output_type": "stream",
     "text": [
      "c:\\users\\ico\\documents\\works\\chariot\\venv\\lib\\site-packages\\tensorflow\\python\\ops\\gradients_impl.py:100: UserWarning: Converting sparse IndexedSlices to a dense Tensor of unknown shape. This may consume a large amount of memory.\n",
      "  \"Converting sparse IndexedSlices to a dense Tensor of unknown shape. \"\n"
     ]
    },
    {
     "name": "stdout",
     "output_type": "stream",
     "text": [
      "Epoch 0: perplexity=369.2919761782787, loss=5.368213197051501, val_perplexity=94.54070592161085, val_loss=4.5367930177782405,\n",
      "Epoch 1: perplexity=154.244867043417, loss=5.02817786638854, val_perplexity=93.44105188338483, val_loss=4.524889728671215,\n",
      "Epoch 2: perplexity=146.82682842817462, loss=4.979405278065165, val_perplexity=91.10166080662462, val_loss=4.5005628116795275,\n",
      "Epoch 3: perplexity=140.20304703008932, loss=4.933236075229332, val_perplexity=89.21171160838644, val_loss=4.479983156235492,\n",
      "Epoch 4: perplexity=133.82835310638927, loss=4.887119368256116, val_perplexity=86.81127521952645, val_loss=4.453076619007549,\n",
      "Epoch 5: perplexity=128.3873344796603, loss=4.8455743305018695, val_perplexity=84.46871487977074, val_loss=4.425483516005219,\n",
      "Epoch 6: perplexity=122.51532094986712, loss=4.79893648116315, val_perplexity=82.53537909085634, val_loss=4.403466262192023,\n",
      "Epoch 7: perplexity=117.38098587286277, loss=4.756262454048532, val_perplexity=78.06790929075147, val_loss=4.347005686994459,\n",
      "Epoch 8: perplexity=112.29172218197682, loss=4.712046495031138, val_perplexity=75.89314737788966, val_loss=4.31844901256874,\n",
      "Epoch 9: perplexity=107.10357671018507, loss=4.664712810516358, val_perplexity=73.53877993724386, val_loss=4.288083270338715,\n"
     ]
    }
   ],
   "source": [
    "metrics_s = model_s.fit_generator(generator_step[\"valid\"][\"g\"], generator_step[\"valid\"][\"s\"],\n",
    "                                  validation_data=generator_step[\"test\"][\"g\"], validation_steps=generator_step[\"valid\"][\"s\"],\n",
    "                                  epochs=10, verbose=0, callbacks=[ReportCallback()])"
   ]
  },
  {
   "cell_type": "code",
   "execution_count": 21,
   "metadata": {},
   "outputs": [
    {
     "data": {
      "text/plain": [
       "<matplotlib.axes._subplots.AxesSubplot at 0x19aa772e1d0>"
      ]
     },
     "execution_count": 21,
     "metadata": {},
     "output_type": "execute_result"
    },
    {
     "data": {
      "image/png": "[encoded data removed]",
      "text/plain": [
       "<Figure size 432x288 with 2 Axes>"
      ]
     },
     "metadata": {},
     "output_type": "display_data"
    }
   ],
   "source": [
    "result_s = pd.DataFrame.from_dict(metrics_s.history)\n",
    "result_s.plot.line(secondary_y=[\"loss\", \"val_loss\"])"
   ]
  },
  {
   "cell_type": "code",
   "execution_count": 22,
   "metadata": {},
   "outputs": [
    {
     "data": {
      "text/plain": [
       "<matplotlib.axes._subplots.AxesSubplot at 0x19aa79bab38>"
      ]
     },
     "execution_count": 22,
     "metadata": {},
     "output_type": "execute_result"
    },
    {
     "data": {
      "image/png": "[encoded data removed]",
      "text/plain": [
       "<Figure size 432x288 with 2 Axes>"
      ]
     },
     "metadata": {},
     "output_type": "display_data"
    }
   ],
   "source": [
    "result_s[[\"val_perplexity\", \"val_loss\"]].plot.line(secondary_y=[\"val_loss\"])"
   ]
  },
  {
   "cell_type": "code",
   "execution_count": 23,
   "metadata": {},
   "outputs": [
    {
     "data": {
      "text/plain": [
       "'champion june used reinforced sessions sentence germany @@UNKNOWN@@ late team bradley up @@UNKNOWN@@ many city @@UNKNOWN@@ their was @@UNKNOWN@@ @@UNKNOWN@@ @@UNKNOWN@@'"
      ]
     },
     "execution_count": 23,
     "metadata": {},
     "output_type": "execute_result"
    }
   ],
   "source": [
    "generate_text(\"champion\", lm_processor, model)"
   ]
  },
  {
   "cell_type": "code",
   "execution_count": null,
   "metadata": {},
   "outputs": [],
   "source": []
  }
 ],
 "metadata": {
  "kernelspec": {
   "display_name": "Python 3",
   "language": "python",
   "name": "python3"
  },
  "language_info": {
   "codemirror_mode": {
    "name": "ipython",
    "version": 3
   },
   "file_extension": ".py",
   "mimetype": "text/x-python",
   "name": "python",
   "nbconvert_exporter": "python",
   "pygments_lexer": "ipython3",
   "version": "3.6.4"
  }
 },
 "nbformat": 4,
 "nbformat_minor": 2
}
