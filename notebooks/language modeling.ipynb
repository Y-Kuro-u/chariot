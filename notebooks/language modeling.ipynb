{
 "cells": [
  {
   "cell_type": "markdown",
   "metadata": {},
   "source": [
    "# Language Modeling\n",
    "\n",
    "\n",
    "Let's try the language modeling task by using chariot and Tensorflow.\n",
    "\n",
    "* Download the WikiText2 dataset by chazutsu.\n",
    "* Preprocess WikiText2 by chariot.\n",
    "* Make model by TensorFlow (use tf.keras).\n",
    "* Train & evaluate the model.\n",
    "\n",
    "This tutorial needs following libraries.\n",
    "\n",
    "* chazutsu\n",
    "* tensorflow\n",
    "* matplotlib\n"
   ]
  },
  {
   "cell_type": "markdown",
   "metadata": {},
   "source": [
    "## Prepare the packages"
   ]
  },
  {
   "cell_type": "code",
   "execution_count": 1,
   "metadata": {},
   "outputs": [],
   "source": [
    "import os\n",
    "import sys\n",
    "from pathlib import Path\n",
    "import numpy as np\n",
    "import pandas as pd\n",
    "import matplotlib as plt"
   ]
  },
  {
   "cell_type": "code",
   "execution_count": 2,
   "metadata": {},
   "outputs": [],
   "source": [
    "%load_ext autoreload\n",
    "%autoreload 2\n",
    "%matplotlib inline"
   ]
  },
  {
   "cell_type": "code",
   "execution_count": 3,
   "metadata": {},
   "outputs": [],
   "source": [
    "def set_path():\n",
    "    if \"../\" not in sys.path:\n",
    "        sys.path.append(\"../\")\n",
    "    root_dir = Path.cwd()\n",
    "    return root_dir\n",
    "\n",
    "ROOT_DIR = set_path()"
   ]
  },
  {
   "cell_type": "markdown",
   "metadata": {},
   "source": [
    "## Download the Language Modeling Data"
   ]
  },
  {
   "cell_type": "code",
   "execution_count": 4,
   "metadata": {},
   "outputs": [
    {
     "name": "stdout",
     "output_type": "stream",
     "text": [
      "Read resource from the existed resource(if you want to retry, set force=True).\n"
     ]
    }
   ],
   "source": [
    "import chazutsu\n",
    "from chariot.storage import Storage\n",
    "\n",
    "storage = Storage.setup_data_dir(ROOT_DIR)\n",
    "r = chazutsu.datasets.WikiText2().download(storage.data_path(\"raw\"))"
   ]
  },
  {
   "cell_type": "code",
   "execution_count": 5,
   "metadata": {
    "scrolled": true
   },
   "outputs": [
    {
     "data": {
      "text/html": [
       "<div>\n",
       "<style scoped>\n",
       "    .dataframe tbody tr th:only-of-type {\n",
       "        vertical-align: middle;\n",
       "    }\n",
       "\n",
       "    .dataframe tbody tr th {\n",
       "        vertical-align: top;\n",
       "    }\n",
       "\n",
       "    .dataframe thead th {\n",
       "        text-align: right;\n",
       "    }\n",
       "</style>\n",
       "<table border=\"1\" class=\"dataframe\">\n",
       "  <thead>\n",
       "    <tr style=\"text-align: right;\">\n",
       "      <th></th>\n",
       "      <th>sentence</th>\n",
       "    </tr>\n",
       "  </thead>\n",
       "  <tbody>\n",
       "    <tr>\n",
       "      <th>0</th>\n",
       "      <td>= Valkyria Chronicles III =</td>\n",
       "    </tr>\n",
       "    <tr>\n",
       "      <th>1</th>\n",
       "      <td>Senjō no Valkyria 3 : &lt;unk&gt; Chronicles ( Japa...</td>\n",
       "    </tr>\n",
       "    <tr>\n",
       "      <th>2</th>\n",
       "      <td>The game began development in 2010 , carrying...</td>\n",
       "    </tr>\n",
       "  </tbody>\n",
       "</table>\n",
       "</div>"
      ],
      "text/plain": [
       "                                            sentence\n",
       "0                       = Valkyria Chronicles III = \n",
       "1   Senjō no Valkyria 3 : <unk> Chronicles ( Japa...\n",
       "2   The game began development in 2010 , carrying..."
      ]
     },
     "execution_count": 5,
     "metadata": {},
     "output_type": "execute_result"
    }
   ],
   "source": [
    "r.train_data().head(3)"
   ]
  },
  {
   "cell_type": "markdown",
   "metadata": {},
   "source": [
    "## Preprocess the review text by chariot."
   ]
  },
  {
   "cell_type": "markdown",
   "metadata": {},
   "source": [
    "### Make preprocessor"
   ]
  },
  {
   "cell_type": "code",
   "execution_count": 6,
   "metadata": {},
   "outputs": [],
   "source": [
    "import chariot.transformer as ct\n",
    "from chariot.preprocessor import Preprocessor\n",
    "\n",
    "\n",
    "lm_processor = Preprocessor(\n",
    "                    text_transformers=[\n",
    "                        ct.text.UnicodeNormalizer(),\n",
    "                        ct.text.LowerNormalizer()\n",
    "                    ],\n",
    "                    tokenizer=ct.Tokenizer(lang=None),\n",
    "                    vocabulary=ct.Vocabulary(min_df=5))\n",
    "\n",
    "preprocessed = lm_processor.fit_transform(r.valid_data())"
   ]
  },
  {
   "cell_type": "code",
   "execution_count": 7,
   "metadata": {},
   "outputs": [
    {
     "name": "stdout",
     "output_type": "stream",
     "text": [
      "4321\n"
     ]
    }
   ],
   "source": [
    "print(len(lm_processor.vocabulary.get()))"
   ]
  },
  {
   "cell_type": "markdown",
   "metadata": {},
   "source": [
    "## Make model by TensorFlow"
   ]
  },
  {
   "cell_type": "code",
   "execution_count": 8,
   "metadata": {},
   "outputs": [],
   "source": [
    "from tensorflow.python import keras as K\n",
    "\n",
    "\n",
    "vocab_size = lm_processor.vocabulary.count\n",
    "embedding_size = 100\n",
    "hidden_size = 100\n",
    "batch_size = 20\n",
    "sequence_length = 35\n",
    "\n",
    "\n",
    "def make_model(vocab_size, embedding_size, hidden_size, dropout=0.5):\n",
    "    initializer = K.initializers.RandomUniform(minval=-0.1, maxval=0.1)\n",
    "    model = K.Sequential()\n",
    "    model.add(K.layers.Embedding(input_dim=vocab_size, output_dim=embedding_size,\n",
    "                                 embeddings_initializer=initializer))\n",
    "    model.add(K.layers.Dropout(dropout))\n",
    "    model.add(K.layers.LSTM(hidden_size, return_sequences=True))\n",
    "    model.add(K.layers.Dropout(dropout))\n",
    "    model.add(K.layers.TimeDistributed(K.layers.Dense(vocab_size, activation=\"softmax\",\n",
    "                                       kernel_initializer=initializer)))\n",
    "    return model\n",
    "\n",
    "\n",
    "def perplexity(y_true, y_pred):\n",
    "    cross_entropy = K.backend.mean(K.backend.sparse_categorical_crossentropy(y_true, y_pred))\n",
    "    perplexity = K.backend.exp(cross_entropy)\n",
    "    return perplexity"
   ]
  },
  {
   "cell_type": "code",
   "execution_count": 9,
   "metadata": {},
   "outputs": [],
   "source": [
    "model = make_model(vocab_size, embedding_size, hidden_size)\n",
    "model.compile(loss=\"sparse_categorical_crossentropy\",\n",
    "              optimizer=\"adam\",\n",
    "              metrics=[perplexity])"
   ]
  },
  {
   "cell_type": "markdown",
   "metadata": {},
   "source": [
    "## Train the Model"
   ]
  },
  {
   "cell_type": "code",
   "execution_count": 10,
   "metadata": {},
   "outputs": [],
   "source": [
    "class ReportCallback(K.callbacks.Callback):\n",
    "\n",
    "    def on_epoch_end(self, epoch, logs={}):\n",
    "        print(\"Epoch {}: perplexity={}, loss={}, val_perplexity={}, val_loss={},\".format(\n",
    "                epoch, logs[\"perplexity\"], logs[\"loss\"], logs[\"val_perplexity\"], logs[\"val_loss\"]))"
   ]
  },
  {
   "cell_type": "code",
   "execution_count": 11,
   "metadata": {},
   "outputs": [],
   "source": [
    "from chariot.feeder import LanguageModelFeeder\n",
    "\n",
    "\n",
    "def fitter(generator):\n",
    "    for data, target in generator():\n",
    "        yield data, np.expand_dims(target, axis=-1)\n",
    "        \n",
    "\n",
    "generator_step = {\"valid\":{}, \"test\": {}}\n",
    "for kind in generator_step:\n",
    "    if kind == \"valid\":\n",
    "        data = preprocessed\n",
    "    else:\n",
    "        data = lm_processor.transform(r.test_data())\n",
    "\n",
    "    feeder = LanguageModelFeeder({\"sentence\": ct.formatter.ShiftGenerator()})\n",
    "    steps_per_epoch, generator = feeder.make_generator(data, batch_size=batch_size,\n",
    "                                                       sequence_length=sequence_length,\n",
    "                                                       sequencial=False)\n",
    "    generator_step[kind][\"s\"] = steps_per_epoch\n",
    "    generator_step[kind][\"g\"] = fitter(generator)"
   ]
  },
  {
   "cell_type": "code",
   "execution_count": 12,
   "metadata": {},
   "outputs": [
    {
     "name": "stderr",
     "output_type": "stream",
     "text": [
      "c:\\users\\tie301837\\works\\source\\chariot\\venv\\lib\\site-packages\\tensorflow\\python\\ops\\gradients_impl.py:100: UserWarning: Converting sparse IndexedSlices to a dense Tensor of unknown shape. This may consume a large amount of memory.\n",
      "  \"Converting sparse IndexedSlices to a dense Tensor of unknown shape. \"\n"
     ]
    },
    {
     "name": "stdout",
     "output_type": "stream",
     "text": [
      "Epoch 0: perplexity=421.9614149750256, loss=5.519938559610336, val_perplexity=102.76857960185066, val_loss=4.620332606894071,\n",
      "Epoch 1: perplexity=171.63089437015722, loss=5.135024622620129, val_perplexity=97.11369548860144, val_loss=4.564059571750828,\n",
      "Epoch 2: perplexity=157.9549735647733, loss=5.052124695699723, val_perplexity=94.19761877841637, val_loss=4.53407965019101,\n",
      "Epoch 3: perplexity=149.08558609759223, loss=4.9946815975376815, val_perplexity=92.50753882986601, val_loss=4.515514283102067,\n",
      "Epoch 4: perplexity=143.01099300697203, loss=4.9530284146793555, val_perplexity=91.33176545940462, val_loss=4.503572809500772,\n",
      "Epoch 5: perplexity=136.83722319055775, loss=4.9091165433164505, val_perplexity=88.67717929277264, val_loss=4.473965913741315,\n",
      "Epoch 6: perplexity=130.85027916079662, loss=4.864512176200992, val_perplexity=86.43782468701973, val_loss=4.447649005201996,\n",
      "Epoch 7: perplexity=126.50161735659741, loss=4.831162918591109, val_perplexity=84.19222269527248, val_loss=4.422259498033367,\n",
      "Epoch 8: perplexity=122.18505599225153, loss=4.796596275392126, val_perplexity=82.46793689415104, val_loss=4.401509344382364,\n",
      "Epoch 9: perplexity=118.73658769951491, loss=4.767974426707283, val_perplexity=82.72587572942015, val_loss=4.4047946523447505,\n"
     ]
    }
   ],
   "source": [
    "metrics = model.fit_generator(generator_step[\"valid\"][\"g\"], generator_step[\"valid\"][\"s\"],\n",
    "                              validation_data=generator_step[\"test\"][\"g\"], validation_steps=generator_step[\"valid\"][\"s\"],\n",
    "                              epochs=10, verbose=0, callbacks=[ReportCallback()])"
   ]
  },
  {
   "cell_type": "code",
   "execution_count": 13,
   "metadata": {},
   "outputs": [
    {
     "data": {
      "text/plain": [
       "<matplotlib.axes._subplots.AxesSubplot at 0x23ed85af5f8>"
      ]
     },
     "execution_count": 13,
     "metadata": {},
     "output_type": "execute_result"
    },
    {
     "data": {
      "image/png": "[encoded data removed]",
      "text/plain": [
       "<Figure size 432x288 with 2 Axes>"
      ]
     },
     "metadata": {},
     "output_type": "display_data"
    }
   ],
   "source": [
    "result = pd.DataFrame.from_dict(metrics.history)\n",
    "result.plot.line(secondary_y=[\"loss\", \"val_loss\"])"
   ]
  },
  {
   "cell_type": "code",
   "execution_count": 53,
   "metadata": {},
   "outputs": [
    {
     "data": {
      "text/plain": [
       "<matplotlib.axes._subplots.AxesSubplot at 0x23ed87dde80>"
      ]
     },
     "execution_count": 53,
     "metadata": {},
     "output_type": "execute_result"
    },
    {
     "data": {
      "image/png": "[encoded data removed]",
      "text/plain": [
       "<Figure size 432x288 with 2 Axes>"
      ]
     },
     "metadata": {},
     "output_type": "display_data"
    }
   ],
   "source": [
    "result[[\"val_perplexity\", \"val_loss\"]].plot.line(secondary_y=[\"val_loss\"])"
   ]
  },
  {
   "cell_type": "markdown",
   "metadata": {},
   "source": [
    "## Try generating the Text"
   ]
  },
  {
   "cell_type": "code",
   "execution_count": 36,
   "metadata": {},
   "outputs": [],
   "source": [
    "def generate_text(seed_text, lm_processor, model, sequence_length=10, iteration=20):\n",
    "    preprocessed = lm_processor.transform([seed_text])[0]\n",
    "\n",
    "    def pad_sequence(tokens, length):\n",
    "        if len(tokens) < length:\n",
    "            pad_size = length - len(tokens)\n",
    "            return tokens + [lm_processor.vocabulary.pad] * pad_size\n",
    "        elif len(tokens) > length:\n",
    "            return tokens[-length:]\n",
    "        else:\n",
    "            return tokens\n",
    "\n",
    "    for _ in range(iteration):\n",
    "        x = pad_sequence(preprocessed, sequence_length)\n",
    "        y = model.predict([x])\n",
    "        index = min(len(preprocessed) - 1, sequence_length - 1)\n",
    "        target_word_probs = y[index][0]\n",
    "        w = np.random.choice(np.arange(len(target_word_probs)),\n",
    "                             1, p=target_word_probs)[0]\n",
    "        preprocessed.append(w)\n",
    "    \n",
    "    decoded = lm_processor.inverse_transform([preprocessed])\n",
    "    text = \" \".join(decoded[0])\n",
    "\n",
    "    return text"
   ]
  },
  {
   "cell_type": "code",
   "execution_count": 44,
   "metadata": {},
   "outputs": [
    {
     "data": {
      "text/plain": [
       "'when you along @@UNKNOWN@@ @@UNKNOWN@@ defence @@UNKNOWN@@ @@UNKNOWN@@ legal it @@UNKNOWN@@ @@UNKNOWN@@ @@UNKNOWN@@ there lasted @@UNKNOWN@@ @@UNKNOWN@@ homer was october left mongols'"
      ]
     },
     "execution_count": 44,
     "metadata": {},
     "output_type": "execute_result"
    }
   ],
   "source": [
    "generate_text(\"when you\", lm_processor, model)"
   ]
  },
  {
   "cell_type": "code",
   "execution_count": 45,
   "metadata": {},
   "outputs": [
    {
     "data": {
      "text/plain": [
       "'i wish @@UNKNOWN@@ @@UNKNOWN@@ @@UNKNOWN@@ nearly 1987 with @@UNKNOWN@@ new be an @@UNKNOWN@@ aims @@UNKNOWN@@ they even trip prevented during @@UNKNOWN@@ from @@UNKNOWN@@'"
      ]
     },
     "execution_count": 45,
     "metadata": {},
     "output_type": "execute_result"
    }
   ],
   "source": [
    "generate_text(\"i wish to\", lm_processor, model)"
   ]
  },
  {
   "cell_type": "markdown",
   "metadata": {},
   "source": [
    "## Stateful Pattern"
   ]
  },
  {
   "cell_type": "code",
   "execution_count": 46,
   "metadata": {},
   "outputs": [],
   "source": [
    "def make_model_stateful(vocab_size, embedding_size, hidden_size, batch_shape, dropout=0.5):\n",
    "    initializer = K.initializers.RandomUniform(minval=-0.1, maxval=0.1)\n",
    "    model = K.Sequential()\n",
    "    model.add(K.layers.Embedding(input_dim=vocab_size, output_dim=embedding_size,\n",
    "                                 embeddings_initializer=initializer,\n",
    "                                 batch_input_shape=batch_shape))\n",
    "    model.add(K.layers.Dropout(dropout))\n",
    "    model.add(K.layers.LSTM(hidden_size, stateful=True, return_sequences=True))\n",
    "    model.add(K.layers.Dropout(dropout))\n",
    "    model.add(K.layers.TimeDistributed(K.layers.Dense(vocab_size, activation=\"softmax\",\n",
    "                                       kernel_initializer=initializer)))\n",
    "    return model"
   ]
  },
  {
   "cell_type": "code",
   "execution_count": 47,
   "metadata": {},
   "outputs": [],
   "source": [
    "model_s = make_model_stateful(vocab_size, embedding_size, hidden_size, (batch_size, sequence_length))\n",
    "model_s.compile(loss=\"sparse_categorical_crossentropy\",\n",
    "               optimizer=\"adam\",\n",
    "               metrics=[perplexity])"
   ]
  },
  {
   "cell_type": "code",
   "execution_count": 48,
   "metadata": {},
   "outputs": [
    {
     "name": "stderr",
     "output_type": "stream",
     "text": [
      "c:\\users\\tie301837\\works\\source\\chariot\\venv\\lib\\site-packages\\tensorflow\\python\\ops\\gradients_impl.py:100: UserWarning: Converting sparse IndexedSlices to a dense Tensor of unknown shape. This may consume a large amount of memory.\n",
      "  \"Converting sparse IndexedSlices to a dense Tensor of unknown shape. \"\n"
     ]
    },
    {
     "name": "stdout",
     "output_type": "stream",
     "text": [
      "Epoch 0: perplexity=356.78002059186093, loss=5.375149481413795, val_perplexity=96.17522231555375, val_loss=4.5535872897163765,\n",
      "Epoch 1: perplexity=160.27318860663743, loss=5.066293760205879, val_perplexity=93.9143213866187, val_loss=4.529768637360119,\n",
      "Epoch 2: perplexity=150.74871946241035, loss=5.005672087434863, val_perplexity=92.8478244343742, val_loss=4.519673280246923,\n",
      "Epoch 3: perplexity=142.3089021026111, loss=4.948297553765969, val_perplexity=88.9558042432441, val_loss=4.477096290275699,\n",
      "Epoch 4: perplexity=134.2039556784708, loss=4.889801050405033, val_perplexity=85.6662160404393, val_loss=4.43979802678843,\n",
      "Epoch 5: perplexity=127.72959634749616, loss=4.840583083668693, val_perplexity=84.09346407280593, val_loss=4.420997369484823,\n",
      "Epoch 6: perplexity=122.58039358170306, loss=4.799867525257048, val_perplexity=82.61353119396773, val_loss=4.40404523005251,\n",
      "Epoch 7: perplexity=117.76395228651704, loss=4.759605421785448, val_perplexity=79.58291294535653, val_loss=4.366090557223461,\n",
      "Epoch 8: perplexity=113.07536038258037, loss=4.718827797936611, val_perplexity=77.0642789246606, val_loss=4.333680764964369,\n",
      "Epoch 9: perplexity=108.46438721203413, loss=4.677361088111752, val_perplexity=75.00299468743997, val_loss=4.307867022029689,\n"
     ]
    }
   ],
   "source": [
    "metrics_s = model_s.fit_generator(generator_step[\"valid\"][\"g\"], generator_step[\"valid\"][\"s\"],\n",
    "                                  validation_data=generator_step[\"test\"][\"g\"], validation_steps=generator_step[\"valid\"][\"s\"],\n",
    "                                  epochs=10, verbose=0, callbacks=[ReportCallback()])"
   ]
  },
  {
   "cell_type": "code",
   "execution_count": 57,
   "metadata": {},
   "outputs": [
    {
     "data": {
      "text/plain": [
       "<matplotlib.axes._subplots.AxesSubplot at 0x23ed88c6828>"
      ]
     },
     "execution_count": 57,
     "metadata": {},
     "output_type": "execute_result"
    },
    {
     "data": {
      "image/png": "[encoded data removed]",
      "text/plain": [
       "<Figure size 432x288 with 2 Axes>"
      ]
     },
     "metadata": {},
     "output_type": "display_data"
    }
   ],
   "source": [
    "result_s = pd.DataFrame.from_dict(metrics_s.history)\n",
    "result_s.plot.line(secondary_y=[\"loss\", \"val_loss\"])"
   ]
  },
  {
   "cell_type": "code",
   "execution_count": 58,
   "metadata": {},
   "outputs": [
    {
     "data": {
      "text/plain": [
       "<matplotlib.axes._subplots.AxesSubplot at 0x23ed88e22b0>"
      ]
     },
     "execution_count": 58,
     "metadata": {},
     "output_type": "execute_result"
    },
    {
     "data": {
      "image/png": "[encoded data removed]",
      "text/plain": [
       "<Figure size 432x288 with 2 Axes>"
      ]
     },
     "metadata": {},
     "output_type": "display_data"
    }
   ],
   "source": [
    "result_s[[\"val_perplexity\", \"val_loss\"]].plot.line(secondary_y=[\"val_loss\"])"
   ]
  },
  {
   "cell_type": "code",
   "execution_count": 52,
   "metadata": {},
   "outputs": [
    {
     "data": {
      "text/plain": [
       "'champion @@UNKNOWN@@ creek initially tour seat leader @@UNKNOWN@@ @@UNKNOWN@@ records @@UNKNOWN@@ second soldiers director route allowed @@UNKNOWN@@ @@UNKNOWN@@ one @@UNKNOWN@@ committed'"
      ]
     },
     "execution_count": 52,
     "metadata": {},
     "output_type": "execute_result"
    }
   ],
   "source": [
    "generate_text(\"champion\", lm_processor, model)"
   ]
  },
  {
   "cell_type": "code",
   "execution_count": null,
   "metadata": {},
   "outputs": [],
   "source": []
  }
 ],
 "metadata": {
  "kernelspec": {
   "display_name": "Python 3",
   "language": "python",
   "name": "python3"
  },
  "language_info": {
   "codemirror_mode": {
    "name": "ipython",
    "version": 3
   },
   "file_extension": ".py",
   "mimetype": "text/x-python",
   "name": "python",
   "nbconvert_exporter": "python",
   "pygments_lexer": "ipython3",
   "version": "3.6.3"
  }
 },
 "nbformat": 4,
 "nbformat_minor": 2
}
