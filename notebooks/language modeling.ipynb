{
 "cells": [
  {
   "cell_type": "markdown",
   "metadata": {},
   "source": [
    "# Language Modeling\n",
    "\n",
    "\n",
    "Let's try the language modeling task by using chariot and Tensorflow.\n",
    "\n",
    "* Download the WikiText2 dataset by chazutsu.\n",
    "* Preprocess WikiText2 by chariot.\n",
    "* Make model by TensorFlow (use tf.keras).\n",
    "* Train & evaluate the model.\n",
    "\n",
    "This tutorial needs following libraries.\n",
    "\n",
    "* chazutsu\n",
    "* tensorflow\n",
    "* matplotlib\n"
   ]
  },
  {
   "cell_type": "markdown",
   "metadata": {},
   "source": [
    "## Prepare the packages"
   ]
  },
  {
   "cell_type": "code",
   "execution_count": 1,
   "metadata": {},
   "outputs": [],
   "source": [
    "import os\n",
    "import sys\n",
    "from pathlib import Path\n",
    "import numpy as np\n",
    "import pandas as pd\n",
    "import matplotlib as plt"
   ]
  },
  {
   "cell_type": "code",
   "execution_count": 2,
   "metadata": {},
   "outputs": [],
   "source": [
    "%load_ext autoreload\n",
    "%autoreload 2\n",
    "%matplotlib inline"
   ]
  },
  {
   "cell_type": "code",
   "execution_count": 3,
   "metadata": {},
   "outputs": [],
   "source": [
    "def set_path():\n",
    "    if \"../\" not in sys.path:\n",
    "        sys.path.append(\"../\")\n",
    "    root_dir = Path.cwd()\n",
    "    return root_dir\n",
    "\n",
    "ROOT_DIR = set_path()"
   ]
  },
  {
   "cell_type": "markdown",
   "metadata": {},
   "source": [
    "## Download the Language Modeling Data"
   ]
  },
  {
   "cell_type": "code",
   "execution_count": 4,
   "metadata": {},
   "outputs": [
    {
     "name": "stdout",
     "output_type": "stream",
     "text": [
      "Read resource from the existed resource(if you want to retry, set force=True).\n"
     ]
    }
   ],
   "source": [
    "import chazutsu\n",
    "from chariot.storage import Storage\n",
    "\n",
    "storage = Storage.setup_data_dir(ROOT_DIR)\n",
    "r = chazutsu.datasets.WikiText2().download(storage.data_path(\"raw\"))"
   ]
  },
  {
   "cell_type": "code",
   "execution_count": 5,
   "metadata": {
    "scrolled": true
   },
   "outputs": [
    {
     "data": {
      "text/html": [
       "<div>\n",
       "<style scoped>\n",
       "    .dataframe tbody tr th:only-of-type {\n",
       "        vertical-align: middle;\n",
       "    }\n",
       "\n",
       "    .dataframe tbody tr th {\n",
       "        vertical-align: top;\n",
       "    }\n",
       "\n",
       "    .dataframe thead th {\n",
       "        text-align: right;\n",
       "    }\n",
       "</style>\n",
       "<table border=\"1\" class=\"dataframe\">\n",
       "  <thead>\n",
       "    <tr style=\"text-align: right;\">\n",
       "      <th></th>\n",
       "      <th>sentence</th>\n",
       "    </tr>\n",
       "  </thead>\n",
       "  <tbody>\n",
       "    <tr>\n",
       "      <th>0</th>\n",
       "      <td>= Valkyria Chronicles III =</td>\n",
       "    </tr>\n",
       "    <tr>\n",
       "      <th>1</th>\n",
       "      <td>Senjō no Valkyria 3 : &lt;unk&gt; Chronicles ( Japa...</td>\n",
       "    </tr>\n",
       "    <tr>\n",
       "      <th>2</th>\n",
       "      <td>The game began development in 2010 , carrying...</td>\n",
       "    </tr>\n",
       "  </tbody>\n",
       "</table>\n",
       "</div>"
      ],
      "text/plain": [
       "                                            sentence\n",
       "0                       = Valkyria Chronicles III = \n",
       "1   Senjō no Valkyria 3 : <unk> Chronicles ( Japa...\n",
       "2   The game began development in 2010 , carrying..."
      ]
     },
     "execution_count": 5,
     "metadata": {},
     "output_type": "execute_result"
    }
   ],
   "source": [
    "r.train_data().head(3)"
   ]
  },
  {
   "cell_type": "markdown",
   "metadata": {},
   "source": [
    "## Preprocess the review text by chariot."
   ]
  },
  {
   "cell_type": "markdown",
   "metadata": {},
   "source": [
    "### Make preprocessor"
   ]
  },
  {
   "cell_type": "code",
   "execution_count": 6,
   "metadata": {},
   "outputs": [],
   "source": [
    "import chariot.transformer as ct\n",
    "from chariot.preprocessor import Preprocessor\n",
    "\n",
    "\n",
    "lm_processor = Preprocessor(\n",
    "                    text_transformers=[\n",
    "                        ct.text.UnicodeNormalizer(),\n",
    "                        ct.text.LowerNormalizer()\n",
    "                    ],\n",
    "                    tokenizer=ct.Tokenizer(lang=None),\n",
    "                    vocabulary=ct.Vocabulary(min_df=5))\n",
    "\n",
    "preprocessed = lm_processor.fit_transform(r.valid_data())"
   ]
  },
  {
   "cell_type": "code",
   "execution_count": 7,
   "metadata": {},
   "outputs": [
    {
     "name": "stdout",
     "output_type": "stream",
     "text": [
      "4321\n"
     ]
    }
   ],
   "source": [
    "print(len(lm_processor.vocabulary.get()))"
   ]
  },
  {
   "cell_type": "markdown",
   "metadata": {},
   "source": [
    "## Make model by TensorFlow"
   ]
  },
  {
   "cell_type": "code",
   "execution_count": 8,
   "metadata": {},
   "outputs": [],
   "source": [
    "from tensorflow.python import keras as K\n",
    "\n",
    "\n",
    "vocab_size = lm_processor.vocabulary.count\n",
    "embedding_size = 100\n",
    "hidden_size = 100\n",
    "batch_size = 20\n",
    "sequence_length = 35\n",
    "\n",
    "\n",
    "def make_model(vocab_size, embedding_size, hidden_size, dropout=0.5):\n",
    "    initializer = K.initializers.RandomUniform(minval=-0.1, maxval=0.1)\n",
    "    model = K.Sequential()\n",
    "    model.add(K.layers.Embedding(input_dim=vocab_size, output_dim=embedding_size,\n",
    "                                 embeddings_initializer=initializer))\n",
    "    model.add(K.layers.Dropout(dropout))\n",
    "    model.add(K.layers.LSTM(hidden_size, return_sequences=True))\n",
    "    model.add(K.layers.Dropout(dropout))\n",
    "    model.add(K.layers.TimeDistributed(K.layers.Dense(vocab_size, activation=\"softmax\",\n",
    "                                       kernel_initializer=initializer)))\n",
    "    return model\n",
    "\n",
    "\n",
    "def perplexity(y_true, y_pred):\n",
    "    cross_entropy = K.backend.mean(K.backend.sparse_categorical_crossentropy(y_true, y_pred))\n",
    "    perplexity = K.backend.exp(cross_entropy)\n",
    "    return perplexity"
   ]
  },
  {
   "cell_type": "code",
   "execution_count": 9,
   "metadata": {},
   "outputs": [],
   "source": [
    "model = make_model(vocab_size, embedding_size, hidden_size)\n",
    "model.compile(loss=\"sparse_categorical_crossentropy\",\n",
    "              optimizer=\"adam\",\n",
    "              metrics=[perplexity])"
   ]
  },
  {
   "cell_type": "markdown",
   "metadata": {},
   "source": [
    "## Train the Model"
   ]
  },
  {
   "cell_type": "code",
   "execution_count": 10,
   "metadata": {},
   "outputs": [],
   "source": [
    "class ReportCallback(K.callbacks.Callback):\n",
    "\n",
    "    def on_epoch_end(self, epoch, logs={}):\n",
    "        print(\"Epoch {}: perplexity={}, loss={}, val_perplexity={}, val_loss={},\".format(\n",
    "                epoch, logs[\"perplexity\"], logs[\"loss\"], logs[\"val_perplexity\"], logs[\"val_loss\"]))"
   ]
  },
  {
   "cell_type": "code",
   "execution_count": 11,
   "metadata": {},
   "outputs": [],
   "source": [
    "from chariot.feeder import LanguageModelFeeder\n",
    "\n",
    "\n",
    "generator_step = {\"valid\":{}, \"test\": {}}\n",
    "for kind in generator_step:\n",
    "    if kind == \"valid\":\n",
    "        data = preprocessed\n",
    "    else:\n",
    "        data = lm_processor.transform(r.test_data())\n",
    "\n",
    "    feeder = LanguageModelFeeder({\"sentence\": ct.formatter.ShiftGenerator()})\n",
    "    steps_per_epoch, generator = feeder.make_generator(data, batch_size=batch_size,\n",
    "                                                       sequence_length=sequence_length,\n",
    "                                                       sequencial=False)\n",
    "    generator_step[kind][\"s\"] = steps_per_epoch\n",
    "    generator_step[kind][\"g\"] = generator()"
   ]
  },
  {
   "cell_type": "code",
   "execution_count": 12,
   "metadata": {},
   "outputs": [
    {
     "name": "stderr",
     "output_type": "stream",
     "text": [
      "c:\\users\\tie301837\\works\\source\\chariot\\venv\\lib\\site-packages\\tensorflow\\python\\ops\\gradients_impl.py:100: UserWarning: Converting sparse IndexedSlices to a dense Tensor of unknown shape. This may consume a large amount of memory.\n",
      "  \"Converting sparse IndexedSlices to a dense Tensor of unknown shape. \"\n"
     ]
    },
    {
     "name": "stdout",
     "output_type": "stream",
     "text": [
      "Epoch 0: perplexity=410.3856207925765, loss=5.532460450344399, val_perplexity=104.70021209716796, val_loss=4.638861593652944,\n",
      "Epoch 1: perplexity=178.488554307281, loss=5.174011355540792, val_perplexity=100.51167642562116, val_loss=4.598064771245737,\n",
      "Epoch 2: perplexity=169.26421866495102, loss=5.120777248945393, val_perplexity=96.7481261206455, val_loss=4.560221617339088,\n",
      "Epoch 3: perplexity=159.73605651855468, loss=5.0629764775760835, val_perplexity=94.59693552236088, val_loss=4.537517164574295,\n",
      "Epoch 4: perplexity=151.62092928026544, loss=5.01111572296893, val_perplexity=93.4989170512215, val_loss=4.526635920415159,\n",
      "Epoch 5: perplexity=146.53029717617346, loss=4.977219223585285, val_perplexity=91.51708809274142, val_loss=4.505033760383481,\n",
      "Epoch 6: perplexity=141.9752218027584, loss=4.945905704185611, val_perplexity=89.93637321347096, val_loss=4.487005688714199,\n",
      "Epoch 7: perplexity=138.48216915443297, loss=4.920829580650955, val_perplexity=88.20428171626857, val_loss=4.468384340942883,\n",
      "Epoch 8: perplexity=135.43027293721184, loss=4.898751368288134, val_perplexity=86.85671784447842, val_loss=4.452890485231993,\n",
      "Epoch 9: perplexity=132.63526934013993, loss=4.878022206415896, val_perplexity=87.55210136038357, val_loss=4.460872783035528,\n"
     ]
    }
   ],
   "source": [
    "metrics = model.fit_generator(generator_step[\"valid\"][\"g\"], generator_step[\"valid\"][\"s\"],\n",
    "                              validation_data=generator_step[\"test\"][\"g\"], validation_steps=generator_step[\"valid\"][\"s\"],\n",
    "                              epochs=10, verbose=0, callbacks=[ReportCallback()])"
   ]
  },
  {
   "cell_type": "code",
   "execution_count": 13,
   "metadata": {},
   "outputs": [
    {
     "data": {
      "text/plain": [
       "<matplotlib.axes._subplots.AxesSubplot at 0x23c67961710>"
      ]
     },
     "execution_count": 13,
     "metadata": {},
     "output_type": "execute_result"
    },
    {
     "data": {
      "image/png": "[encoded data removed]",
      "text/plain": [
       "<Figure size 432x288 with 2 Axes>"
      ]
     },
     "metadata": {},
     "output_type": "display_data"
    }
   ],
   "source": [
    "result = pd.DataFrame.from_dict(metrics.history)\n",
    "result.plot.line(secondary_y=[\"loss\", \"val_loss\"])"
   ]
  },
  {
   "cell_type": "code",
   "execution_count": 14,
   "metadata": {},
   "outputs": [
    {
     "data": {
      "text/plain": [
       "<matplotlib.axes._subplots.AxesSubplot at 0x23c672ac8d0>"
      ]
     },
     "execution_count": 14,
     "metadata": {},
     "output_type": "execute_result"
    },
    {
     "data": {
      "image/png": "[encoded data removed]",
      "text/plain": [
       "<Figure size 432x288 with 2 Axes>"
      ]
     },
     "metadata": {},
     "output_type": "display_data"
    }
   ],
   "source": [
    "result[[\"val_perplexity\", \"val_loss\"]].plot.line(secondary_y=[\"val_loss\"])"
   ]
  },
  {
   "cell_type": "markdown",
   "metadata": {},
   "source": [
    "## Try generating the Text"
   ]
  },
  {
   "cell_type": "code",
   "execution_count": 15,
   "metadata": {},
   "outputs": [],
   "source": [
    "def generate_text(seed_text, lm_processor, model, sequence_length=10, iteration=20):\n",
    "    preprocessed = lm_processor.transform([seed_text])[0]\n",
    "\n",
    "    def pad_sequence(tokens, length):\n",
    "        if len(tokens) < length:\n",
    "            pad_size = length - len(tokens)\n",
    "            return tokens + [lm_processor.vocabulary.pad] * pad_size\n",
    "        elif len(tokens) > length:\n",
    "            return tokens[-length:]\n",
    "        else:\n",
    "            return tokens\n",
    "\n",
    "    for _ in range(iteration):\n",
    "        x = pad_sequence(preprocessed, sequence_length)\n",
    "        y = model.predict([x])\n",
    "        index = min(len(preprocessed) - 1, sequence_length - 1)\n",
    "        target_word_probs = y[index][0]\n",
    "        w = np.random.choice(np.arange(len(target_word_probs)),\n",
    "                             1, p=target_word_probs)[0]\n",
    "        preprocessed.append(w)\n",
    "    \n",
    "    decoded = lm_processor.inverse_transform([preprocessed])\n",
    "    text = \" \".join(decoded[0])\n",
    "\n",
    "    return text"
   ]
  },
  {
   "cell_type": "code",
   "execution_count": 16,
   "metadata": {},
   "outputs": [
    {
     "data": {
      "text/plain": [
       "'when you floor as @@UNKNOWN@@ decade @@UNKNOWN@@ @@UNKNOWN@@ causing united lord south @@UNKNOWN@@ upright out @@UNKNOWN@@ @@UNKNOWN@@ @@UNKNOWN@@ this have 21 speech'"
      ]
     },
     "execution_count": 16,
     "metadata": {},
     "output_type": "execute_result"
    }
   ],
   "source": [
    "generate_text(\"when you\", lm_processor, model)"
   ]
  },
  {
   "cell_type": "code",
   "execution_count": 17,
   "metadata": {},
   "outputs": [
    {
     "data": {
      "text/plain": [
       "\"i wish @@UNKNOWN@@ @@UNKNOWN@@ @@UNKNOWN@@ @@UNKNOWN@@ playing 's boy @@UNKNOWN@@ for farrell act @@UNKNOWN@@ km 1798 thames @@UNKNOWN@@ all better terms michael structure\""
      ]
     },
     "execution_count": 17,
     "metadata": {},
     "output_type": "execute_result"
    }
   ],
   "source": [
    "generate_text(\"i wish to\", lm_processor, model)"
   ]
  },
  {
   "cell_type": "markdown",
   "metadata": {},
   "source": [
    "## Stateful Pattern"
   ]
  },
  {
   "cell_type": "code",
   "execution_count": 18,
   "metadata": {},
   "outputs": [],
   "source": [
    "def make_model_stateful(vocab_size, embedding_size, hidden_size, batch_shape, dropout=0.5):\n",
    "    initializer = K.initializers.RandomUniform(minval=-0.1, maxval=0.1)\n",
    "    model = K.Sequential()\n",
    "    model.add(K.layers.Embedding(input_dim=vocab_size, output_dim=embedding_size,\n",
    "                                 embeddings_initializer=initializer,\n",
    "                                 batch_input_shape=batch_shape))\n",
    "    model.add(K.layers.Dropout(dropout))\n",
    "    model.add(K.layers.LSTM(hidden_size, stateful=True, return_sequences=True))\n",
    "    model.add(K.layers.Dropout(dropout))\n",
    "    model.add(K.layers.TimeDistributed(K.layers.Dense(vocab_size, activation=\"softmax\",\n",
    "                                       kernel_initializer=initializer)))\n",
    "    return model"
   ]
  },
  {
   "cell_type": "code",
   "execution_count": 19,
   "metadata": {},
   "outputs": [],
   "source": [
    "model_s = make_model_stateful(vocab_size, embedding_size, hidden_size, (batch_size, sequence_length))\n",
    "model_s.compile(loss=\"sparse_categorical_crossentropy\",\n",
    "               optimizer=\"adam\",\n",
    "               metrics=[perplexity])"
   ]
  },
  {
   "cell_type": "code",
   "execution_count": 20,
   "metadata": {},
   "outputs": [
    {
     "name": "stderr",
     "output_type": "stream",
     "text": [
      "c:\\users\\tie301837\\works\\source\\chariot\\venv\\lib\\site-packages\\tensorflow\\python\\ops\\gradients_impl.py:100: UserWarning: Converting sparse IndexedSlices to a dense Tensor of unknown shape. This may consume a large amount of memory.\n",
      "  \"Converting sparse IndexedSlices to a dense Tensor of unknown shape. \"\n"
     ]
    },
    {
     "name": "stdout",
     "output_type": "stream",
     "text": [
      "Epoch 0: perplexity=359.9346899564149, loss=5.375408962124684, val_perplexity=95.72728484106845, val_loss=4.5489686012268065,\n",
      "Epoch 1: perplexity=158.796647093726, loss=5.057217143011875, val_perplexity=93.635550489582, val_loss=4.526964501865574,\n",
      "Epoch 2: perplexity=148.11312195824794, loss=4.988003446235031, val_perplexity=90.92516085515257, val_loss=4.498757146616451,\n",
      "Epoch 3: perplexity=139.8941340211962, loss=4.931109206402888, val_perplexity=87.35910518208487, val_loss=4.458968536189345,\n",
      "Epoch 4: perplexity=133.14641613569415, loss=4.881728893029885, val_perplexity=84.43592426737801, val_loss=4.425346147818644,\n",
      "Epoch 5: perplexity=127.85487931048284, loss=4.841562213272345, val_perplexity=83.28317837324299, val_loss=4.411346337052643,\n",
      "Epoch 6: perplexity=123.51651996550012, loss=4.806883091223044, val_perplexity=82.15688814257012, val_loss=4.398415971974858,\n",
      "Epoch 7: perplexity=119.46718432317014, loss=4.773762262062948, val_perplexity=79.8147964602611, val_loss=4.368951739639533,\n",
      "Epoch 8: perplexity=115.21229668288935, loss=4.737597693771613, val_perplexity=77.85187239099722, val_loss=4.343765247845259,\n",
      "Epoch 9: perplexity=111.15907940473713, loss=4.701484667668577, val_perplexity=75.37179449112689, val_loss=4.31230761340407,\n"
     ]
    }
   ],
   "source": [
    "metrics_s = model_s.fit_generator(generator_step[\"valid\"][\"g\"], generator_step[\"valid\"][\"s\"],\n",
    "                                  validation_data=generator_step[\"test\"][\"g\"], validation_steps=generator_step[\"valid\"][\"s\"],\n",
    "                                  epochs=10, verbose=0, callbacks=[ReportCallback()])"
   ]
  },
  {
   "cell_type": "code",
   "execution_count": 21,
   "metadata": {},
   "outputs": [
    {
     "data": {
      "text/plain": [
       "<matplotlib.axes._subplots.AxesSubplot at 0x23c67287400>"
      ]
     },
     "execution_count": 21,
     "metadata": {},
     "output_type": "execute_result"
    },
    {
     "data": {
      "image/png": "[encoded data removed]",
      "text/plain": [
       "<Figure size 432x288 with 2 Axes>"
      ]
     },
     "metadata": {},
     "output_type": "display_data"
    }
   ],
   "source": [
    "result_s = pd.DataFrame.from_dict(metrics_s.history)\n",
    "result_s.plot.line(secondary_y=[\"loss\", \"val_loss\"])"
   ]
  },
  {
   "cell_type": "code",
   "execution_count": 22,
   "metadata": {},
   "outputs": [
    {
     "data": {
      "text/plain": [
       "<matplotlib.axes._subplots.AxesSubplot at 0x23c6747de10>"
      ]
     },
     "execution_count": 22,
     "metadata": {},
     "output_type": "execute_result"
    },
    {
     "data": {
      "image/png": "[encoded data removed]",
      "text/plain": [
       "<Figure size 432x288 with 2 Axes>"
      ]
     },
     "metadata": {},
     "output_type": "display_data"
    }
   ],
   "source": [
    "result_s[[\"val_perplexity\", \"val_loss\"]].plot.line(secondary_y=[\"val_loss\"])"
   ]
  },
  {
   "cell_type": "code",
   "execution_count": 23,
   "metadata": {},
   "outputs": [
    {
     "data": {
      "text/plain": [
       "'champion maintaining was i cast ( film attempts @@UNKNOWN@@ fuel board per norway @@UNKNOWN@@ on @@UNKNOWN@@ i attempting @@UNKNOWN@@ @@UNKNOWN@@ @@UNKNOWN@@'"
      ]
     },
     "execution_count": 23,
     "metadata": {},
     "output_type": "execute_result"
    }
   ],
   "source": [
    "generate_text(\"champion\", lm_processor, model)"
   ]
  },
  {
   "cell_type": "code",
   "execution_count": null,
   "metadata": {},
   "outputs": [],
   "source": []
  }
 ],
 "metadata": {
  "kernelspec": {
   "display_name": "Python 3",
   "language": "python",
   "name": "python3"
  },
  "language_info": {
   "codemirror_mode": {
    "name": "ipython",
    "version": 3
   },
   "file_extension": ".py",
   "mimetype": "text/x-python",
   "name": "python",
   "nbconvert_exporter": "python",
   "pygments_lexer": "ipython3",
   "version": "3.6.3"
  }
 },
 "nbformat": 4,
 "nbformat_minor": 2
}
