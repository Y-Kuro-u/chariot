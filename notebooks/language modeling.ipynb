{
 "cells": [
  {
   "cell_type": "markdown",
   "metadata": {},
   "source": [
    "# Language Modeling\n",
    "\n",
    "\n",
    "Let's try the language modeling task by using chariot and Tensorflow.\n",
    "\n",
    "* Download the WikiText2 dataset by chazutsu.\n",
    "* Preprocess WikiText2 by chariot.\n",
    "* Make model by TensorFlow (use tf.keras).\n",
    "* Train & evaluate the model.\n",
    "\n",
    "This tutorial needs following libraries.\n",
    "\n",
    "* chazutsu\n",
    "* tensorflow\n",
    "* matplotlib\n"
   ]
  },
  {
   "cell_type": "markdown",
   "metadata": {},
   "source": [
    "## Prepare the packages"
   ]
  },
  {
   "cell_type": "code",
   "execution_count": 1,
   "metadata": {},
   "outputs": [],
   "source": [
    "import os\n",
    "import sys\n",
    "from pathlib import Path\n",
    "import numpy as np\n",
    "import pandas as pd\n",
    "import matplotlib as plt"
   ]
  },
  {
   "cell_type": "code",
   "execution_count": 2,
   "metadata": {},
   "outputs": [],
   "source": [
    "%load_ext autoreload\n",
    "%autoreload 2\n",
    "%matplotlib inline"
   ]
  },
  {
   "cell_type": "code",
   "execution_count": 3,
   "metadata": {},
   "outputs": [],
   "source": [
    "def set_path():\n",
    "    if \"../\" not in sys.path:\n",
    "        sys.path.append(\"../\")\n",
    "    root_dir = Path.cwd()\n",
    "    return root_dir\n",
    "\n",
    "ROOT_DIR = set_path()"
   ]
  },
  {
   "cell_type": "markdown",
   "metadata": {},
   "source": [
    "## Download the Language Modeling Data"
   ]
  },
  {
   "cell_type": "code",
   "execution_count": 4,
   "metadata": {},
   "outputs": [
    {
     "name": "stdout",
     "output_type": "stream",
     "text": [
      "Read resource from the existed resource(if you want to retry, set force=True).\n"
     ]
    }
   ],
   "source": [
    "import chazutsu\n",
    "from chariot.storage import Storage\n",
    "\n",
    "storage = Storage.setup_data_dir(ROOT_DIR)\n",
    "r = chazutsu.datasets.WikiText2().download(storage.data_path(\"raw\"))"
   ]
  },
  {
   "cell_type": "code",
   "execution_count": 5,
   "metadata": {
    "scrolled": true
   },
   "outputs": [
    {
     "data": {
      "text/html": [
       "<div>\n",
       "<style scoped>\n",
       "    .dataframe tbody tr th:only-of-type {\n",
       "        vertical-align: middle;\n",
       "    }\n",
       "\n",
       "    .dataframe tbody tr th {\n",
       "        vertical-align: top;\n",
       "    }\n",
       "\n",
       "    .dataframe thead th {\n",
       "        text-align: right;\n",
       "    }\n",
       "</style>\n",
       "<table border=\"1\" class=\"dataframe\">\n",
       "  <thead>\n",
       "    <tr style=\"text-align: right;\">\n",
       "      <th></th>\n",
       "      <th>sentence</th>\n",
       "    </tr>\n",
       "  </thead>\n",
       "  <tbody>\n",
       "    <tr>\n",
       "      <th>0</th>\n",
       "      <td>= Valkyria Chronicles III =</td>\n",
       "    </tr>\n",
       "    <tr>\n",
       "      <th>1</th>\n",
       "      <td>Senjō no Valkyria 3 : &lt;unk&gt; Chronicles ( Japa...</td>\n",
       "    </tr>\n",
       "    <tr>\n",
       "      <th>2</th>\n",
       "      <td>The game began development in 2010 , carrying...</td>\n",
       "    </tr>\n",
       "  </tbody>\n",
       "</table>\n",
       "</div>"
      ],
      "text/plain": [
       "                                            sentence\n",
       "0                       = Valkyria Chronicles III = \n",
       "1   Senjō no Valkyria 3 : <unk> Chronicles ( Japa...\n",
       "2   The game began development in 2010 , carrying..."
      ]
     },
     "execution_count": 5,
     "metadata": {},
     "output_type": "execute_result"
    }
   ],
   "source": [
    "r.train_data().head(3)"
   ]
  },
  {
   "cell_type": "markdown",
   "metadata": {},
   "source": [
    "## Preprocess the review text by chariot."
   ]
  },
  {
   "cell_type": "markdown",
   "metadata": {},
   "source": [
    "### Make preprocessor"
   ]
  },
  {
   "cell_type": "code",
   "execution_count": 6,
   "metadata": {},
   "outputs": [],
   "source": [
    "import chariot.transformer as ct\n",
    "from chariot.preprocessor import Preprocessor\n",
    "\n",
    "\n",
    "lm_processor = Preprocessor(\n",
    "                    text_transformers=[\n",
    "                        ct.text.UnicodeNormalizer(),\n",
    "                        ct.text.LowerNormalizer()\n",
    "                    ],\n",
    "                    tokenizer=ct.Tokenizer(lang=None),\n",
    "                    vocabulary=ct.Vocabulary(min_df=5))\n",
    "\n",
    "preprocessed = lm_processor.fit_transform(r.valid_data())"
   ]
  },
  {
   "cell_type": "code",
   "execution_count": 7,
   "metadata": {},
   "outputs": [
    {
     "name": "stdout",
     "output_type": "stream",
     "text": [
      "4321\n"
     ]
    }
   ],
   "source": [
    "print(len(lm_processor.vocabulary.get()))"
   ]
  },
  {
   "cell_type": "markdown",
   "metadata": {},
   "source": [
    "## Make model by TensorFlow"
   ]
  },
  {
   "cell_type": "code",
   "execution_count": 8,
   "metadata": {},
   "outputs": [],
   "source": [
    "from tensorflow.python import keras as K\n",
    "\n",
    "\n",
    "vocab_size = lm_processor.vocabulary.count\n",
    "embedding_size = 100\n",
    "hidden_size = 100\n",
    "batch_size = 20\n",
    "sequence_length = 35\n",
    "\n",
    "\n",
    "def make_model(vocab_size, embedding_size, hidden_size, dropout=0.5):\n",
    "    initializer = K.initializers.RandomUniform(minval=-0.1, maxval=0.1)\n",
    "    model = K.Sequential()\n",
    "    model.add(K.layers.Embedding(input_dim=vocab_size, output_dim=embedding_size,\n",
    "                                 embeddings_initializer=initializer))\n",
    "    model.add(K.layers.Dropout(dropout))\n",
    "    model.add(K.layers.LSTM(hidden_size, return_sequences=True))\n",
    "    model.add(K.layers.Dropout(dropout))\n",
    "    model.add(K.layers.TimeDistributed(K.layers.Dense(vocab_size, activation=\"softmax\",\n",
    "                                       kernel_initializer=initializer)))\n",
    "    return model\n",
    "\n",
    "\n",
    "def perplexity(y_true, y_pred):\n",
    "    cross_entropy = K.backend.mean(K.backend.sparse_categorical_crossentropy(y_true, y_pred))\n",
    "    perplexity = K.backend.exp(cross_entropy)\n",
    "    return perplexity"
   ]
  },
  {
   "cell_type": "code",
   "execution_count": 9,
   "metadata": {},
   "outputs": [],
   "source": [
    "model = make_model(vocab_size, embedding_size, hidden_size)\n",
    "model.compile(loss=\"sparse_categorical_crossentropy\",\n",
    "              optimizer=\"adam\",\n",
    "              metrics=[perplexity])"
   ]
  },
  {
   "cell_type": "markdown",
   "metadata": {},
   "source": [
    "## Train the Model"
   ]
  },
  {
   "cell_type": "code",
   "execution_count": 10,
   "metadata": {},
   "outputs": [],
   "source": [
    "class ReportCallback(K.callbacks.Callback):\n",
    "\n",
    "    def on_epoch_end(self, epoch, logs={}):\n",
    "        print(\"Epoch {}: perplexity={}, loss={}, val_perplexity={}, val_loss={},\".format(\n",
    "                epoch, logs[\"perplexity\"], logs[\"loss\"], logs[\"val_perplexity\"], logs[\"val_loss\"]))"
   ]
  },
  {
   "cell_type": "code",
   "execution_count": 11,
   "metadata": {},
   "outputs": [],
   "source": [
    "from chariot.feeder import LanguageModelFeeder\n",
    "\n",
    "\n",
    "def fitter(generator):\n",
    "    for data, target in generator():\n",
    "        yield data, np.expand_dims(target, axis=-1)\n",
    "        \n",
    "\n",
    "generator_step = {\"valid\":{}, \"test\": {}}\n",
    "for kind in generator_step:\n",
    "    if kind == \"valid\":\n",
    "        data = preprocessed\n",
    "    else:\n",
    "        data = lm_processor.transform(r.test_data())\n",
    "\n",
    "    feeder = LanguageModelFeeder({\"sentence\": ct.formatter.ShiftGenerator()})\n",
    "    steps_per_epoch, generator = feeder.make_generator(data, batch_size=batch_size,\n",
    "                                                       sequence_length=sequence_length,\n",
    "                                                       sequencial=False)\n",
    "    generator_step[kind][\"s\"] = steps_per_epoch\n",
    "    generator_step[kind][\"g\"] = fitter(generator)"
   ]
  },
  {
   "cell_type": "code",
   "execution_count": 12,
   "metadata": {},
   "outputs": [
    {
     "name": "stderr",
     "output_type": "stream",
     "text": [
      "c:\\users\\tie301837\\works\\source\\chariot\\venv\\lib\\site-packages\\tensorflow\\python\\ops\\gradients_impl.py:100: UserWarning: Converting sparse IndexedSlices to a dense Tensor of unknown shape. This may consume a large amount of memory.\n",
      "  \"Converting sparse IndexedSlices to a dense Tensor of unknown shape. \"\n"
     ]
    },
    {
     "name": "stdout",
     "output_type": "stream",
     "text": [
      "Epoch 0: perplexity=403.2446360353564, loss=5.520367390992211, val_perplexity=103.62115345939262, val_loss=4.628396453232062,\n",
      "Epoch 1: perplexity=176.41003095282883, loss=5.162392888303663, val_perplexity=99.41249232057665, val_loss=4.587060326435527,\n",
      "Epoch 2: perplexity=165.08813814257013, loss=5.095509569762183, val_perplexity=94.74741078361136, val_loss=4.539248697874976,\n",
      "Epoch 3: perplexity=154.17029416443873, loss=5.02777512503452, val_perplexity=93.33580594922675, val_loss=4.5242427560149645,\n",
      "Epoch 4: perplexity=146.97825479976467, loss=4.98022421852487, val_perplexity=92.62575334642754, val_loss=4.517597037456075,\n",
      "Epoch 5: perplexity=141.78575584536694, loss=4.944392407526736, val_perplexity=90.59970983286372, val_loss=4.495122876714488,\n",
      "Epoch 6: perplexity=138.02764890076685, loss=4.9177363348788905, val_perplexity=88.94679248997423, val_loss=4.476059910508453,\n",
      "Epoch 7: perplexity=134.12264686959688, loss=4.889164550968858, val_perplexity=87.33860957661614, val_loss=4.458608763335181,\n",
      "Epoch 8: perplexity=131.03338242827868, loss=4.866051558197522, val_perplexity=85.64090281001857, val_loss=4.438958777755987,\n",
      "Epoch 9: perplexity=128.18770186627498, loss=4.843985696698798, val_perplexity=85.90379038326076, val_loss=4.441941195628682,\n"
     ]
    }
   ],
   "source": [
    "metrics = model.fit_generator(generator_step[\"valid\"][\"g\"], generator_step[\"valid\"][\"s\"],\n",
    "                              validation_data=generator_step[\"test\"][\"g\"], validation_steps=generator_step[\"valid\"][\"s\"],\n",
    "                              epochs=10, verbose=0, callbacks=[ReportCallback()])"
   ]
  },
  {
   "cell_type": "code",
   "execution_count": 13,
   "metadata": {},
   "outputs": [
    {
     "data": {
      "text/plain": [
       "<matplotlib.axes._subplots.AxesSubplot at 0x299689cbb00>"
      ]
     },
     "execution_count": 13,
     "metadata": {},
     "output_type": "execute_result"
    },
    {
     "data": {
      "image/png": "[encoded data removed]",
      "text/plain": [
       "<Figure size 432x288 with 2 Axes>"
      ]
     },
     "metadata": {},
     "output_type": "display_data"
    }
   ],
   "source": [
    "result = pd.DataFrame.from_dict(metrics.history)\n",
    "result.plot.line(secondary_y=[\"loss\", \"val_loss\"])"
   ]
  },
  {
   "cell_type": "code",
   "execution_count": 14,
   "metadata": {},
   "outputs": [
    {
     "data": {
      "text/plain": [
       "<matplotlib.axes._subplots.AxesSubplot at 0x299602ab940>"
      ]
     },
     "execution_count": 14,
     "metadata": {},
     "output_type": "execute_result"
    },
    {
     "data": {
      "image/png": "[encoded data removed]",
      "text/plain": [
       "<Figure size 432x288 with 2 Axes>"
      ]
     },
     "metadata": {},
     "output_type": "display_data"
    }
   ],
   "source": [
    "result[[\"val_perplexity\", \"val_loss\"]].plot.line(secondary_y=[\"val_loss\"])"
   ]
  },
  {
   "cell_type": "markdown",
   "metadata": {},
   "source": [
    "## Try generating the Text"
   ]
  },
  {
   "cell_type": "code",
   "execution_count": 15,
   "metadata": {},
   "outputs": [],
   "source": [
    "def generate_text(seed_text, lm_processor, model, sequence_length=10, iteration=20):\n",
    "    preprocessed = lm_processor.transform([seed_text])[0]\n",
    "\n",
    "    def pad_sequence(tokens, length):\n",
    "        if len(tokens) < length:\n",
    "            pad_size = length - len(tokens)\n",
    "            return tokens + [lm_processor.vocabulary.pad] * pad_size\n",
    "        elif len(tokens) > length:\n",
    "            return tokens[-length:]\n",
    "        else:\n",
    "            return tokens\n",
    "\n",
    "    for _ in range(iteration):\n",
    "        x = pad_sequence(preprocessed, sequence_length)\n",
    "        y = model.predict([x])\n",
    "        index = min(len(preprocessed) - 1, sequence_length - 1)\n",
    "        target_word_probs = y[index][0]\n",
    "        w = np.random.choice(np.arange(len(target_word_probs)),\n",
    "                             1, p=target_word_probs)[0]\n",
    "        preprocessed.append(w)\n",
    "    \n",
    "    decoded = lm_processor.inverse_transform([preprocessed])\n",
    "    text = \" \".join(decoded[0])\n",
    "\n",
    "    return text"
   ]
  },
  {
   "cell_type": "code",
   "execution_count": 16,
   "metadata": {},
   "outputs": [
    {
     "data": {
      "text/plain": [
       "'when you preparation williams series for but @@UNKNOWN@@ home @@UNKNOWN@@ madonna after downtown @@UNKNOWN@@ @@UNKNOWN@@ re silver @@UNKNOWN@@ helicopters dated before @@UNKNOWN@@'"
      ]
     },
     "execution_count": 16,
     "metadata": {},
     "output_type": "execute_result"
    }
   ],
   "source": [
    "generate_text(\"when you\", lm_processor, model)"
   ]
  },
  {
   "cell_type": "code",
   "execution_count": 17,
   "metadata": {},
   "outputs": [
    {
     "data": {
      "text/plain": [
       "'i wish @@UNKNOWN@@ @@UNKNOWN@@ northern land are each @@UNKNOWN@@ county ( lake this final @@UNKNOWN@@ that @@UNKNOWN@@ very @@UNKNOWN@@ @@UNKNOWN@@ 1982 catch participated'"
      ]
     },
     "execution_count": 17,
     "metadata": {},
     "output_type": "execute_result"
    }
   ],
   "source": [
    "generate_text(\"i wish to\", lm_processor, model)"
   ]
  },
  {
   "cell_type": "markdown",
   "metadata": {},
   "source": [
    "## Stateful Pattern"
   ]
  },
  {
   "cell_type": "code",
   "execution_count": 18,
   "metadata": {},
   "outputs": [],
   "source": [
    "def make_model_stateful(vocab_size, embedding_size, hidden_size, batch_shape, dropout=0.5):\n",
    "    initializer = K.initializers.RandomUniform(minval=-0.1, maxval=0.1)\n",
    "    model = K.Sequential()\n",
    "    model.add(K.layers.Embedding(input_dim=vocab_size, output_dim=embedding_size,\n",
    "                                 embeddings_initializer=initializer,\n",
    "                                 batch_input_shape=batch_shape))\n",
    "    model.add(K.layers.Dropout(dropout))\n",
    "    model.add(K.layers.LSTM(hidden_size, stateful=True, return_sequences=True))\n",
    "    model.add(K.layers.Dropout(dropout))\n",
    "    model.add(K.layers.TimeDistributed(K.layers.Dense(vocab_size, activation=\"softmax\",\n",
    "                                       kernel_initializer=initializer)))\n",
    "    return model"
   ]
  },
  {
   "cell_type": "code",
   "execution_count": 19,
   "metadata": {},
   "outputs": [],
   "source": [
    "model_s = make_model_stateful(vocab_size, embedding_size, hidden_size, (batch_size, sequence_length))\n",
    "model_s.compile(loss=\"sparse_categorical_crossentropy\",\n",
    "               optimizer=\"adam\",\n",
    "               metrics=[perplexity])"
   ]
  },
  {
   "cell_type": "code",
   "execution_count": 20,
   "metadata": {},
   "outputs": [
    {
     "name": "stderr",
     "output_type": "stream",
     "text": [
      "c:\\users\\tie301837\\works\\source\\chariot\\venv\\lib\\site-packages\\tensorflow\\python\\ops\\gradients_impl.py:100: UserWarning: Converting sparse IndexedSlices to a dense Tensor of unknown shape. This may consume a large amount of memory.\n",
      "  \"Converting sparse IndexedSlices to a dense Tensor of unknown shape. \"\n"
     ]
    },
    {
     "name": "stdout",
     "output_type": "stream",
     "text": [
      "Epoch 0: perplexity=363.03528880134957, loss=5.374059487952561, val_perplexity=95.51841140496926, val_loss=4.5469642076335965,\n",
      "Epoch 1: perplexity=156.91145332211354, loss=5.045397266012723, val_perplexity=94.00921892259942, val_loss=4.531295731028573,\n",
      "Epoch 2: perplexity=147.13575226830653, loss=4.981523566949563, val_perplexity=90.69483494993116, val_loss=4.495974041985684,\n",
      "Epoch 3: perplexity=139.3425136628698, loss=4.927260789714876, val_perplexity=88.3212393213491, val_loss=4.470017695817791,\n",
      "Epoch 4: perplexity=132.55413595731142, loss=4.877663648323934, val_perplexity=85.1572835328149, val_loss=4.43377510915037,\n",
      "Epoch 5: perplexity=126.89241330506371, loss=4.833951729633769, val_perplexity=83.79746522747102, val_loss=4.417555515101698,\n",
      "Epoch 6: perplexity=121.6478331518955, loss=4.792102193050697, val_perplexity=82.44992027908076, val_loss=4.402141711750969,\n",
      "Epoch 7: perplexity=116.5746928730949, loss=4.7497775015283805, val_perplexity=79.35374662055344, val_loss=4.363213426558698,\n",
      "Epoch 8: perplexity=111.73157148517546, loss=4.707311431697158, val_perplexity=77.36267053572858, val_loss=4.3377030263181595,\n",
      "Epoch 9: perplexity=107.35946587734536, loss=4.667507875161093, val_perplexity=74.66913656015865, val_loss=4.303049752751335,\n"
     ]
    }
   ],
   "source": [
    "metrics_s = model_s.fit_generator(generator_step[\"valid\"][\"g\"], generator_step[\"valid\"][\"s\"],\n",
    "                                  validation_data=generator_step[\"test\"][\"g\"], validation_steps=generator_step[\"valid\"][\"s\"],\n",
    "                                  epochs=10, verbose=0, callbacks=[ReportCallback()])"
   ]
  },
  {
   "cell_type": "code",
   "execution_count": 21,
   "metadata": {},
   "outputs": [
    {
     "data": {
      "text/plain": [
       "<matplotlib.axes._subplots.AxesSubplot at 0x29960288ef0>"
      ]
     },
     "execution_count": 21,
     "metadata": {},
     "output_type": "execute_result"
    },
    {
     "data": {
      "image/png": "[encoded data removed]",
      "text/plain": [
       "<Figure size 432x288 with 2 Axes>"
      ]
     },
     "metadata": {},
     "output_type": "display_data"
    }
   ],
   "source": [
    "result_s = pd.DataFrame.from_dict(metrics_s.history)\n",
    "result_s.plot.line(secondary_y=[\"loss\", \"val_loss\"])"
   ]
  },
  {
   "cell_type": "code",
   "execution_count": 22,
   "metadata": {},
   "outputs": [
    {
     "data": {
      "text/plain": [
       "<matplotlib.axes._subplots.AxesSubplot at 0x2996048f9b0>"
      ]
     },
     "execution_count": 22,
     "metadata": {},
     "output_type": "execute_result"
    },
    {
     "data": {
      "image/png": "[encoded data removed]",
      "text/plain": [
       "<Figure size 432x288 with 2 Axes>"
      ]
     },
     "metadata": {},
     "output_type": "display_data"
    }
   ],
   "source": [
    "result_s[[\"val_perplexity\", \"val_loss\"]].plot.line(secondary_y=[\"val_loss\"])"
   ]
  },
  {
   "cell_type": "code",
   "execution_count": 23,
   "metadata": {},
   "outputs": [
    {
     "data": {
      "text/plain": [
       "'champion positive activist actions bid @@UNKNOWN@@ attack — @@UNKNOWN@@ @@UNKNOWN@@ cast a.v. meridian visitors without two impossible @@UNKNOWN@@ common were blue'"
      ]
     },
     "execution_count": 23,
     "metadata": {},
     "output_type": "execute_result"
    }
   ],
   "source": [
    "generate_text(\"champion\", lm_processor, model)"
   ]
  },
  {
   "cell_type": "code",
   "execution_count": null,
   "metadata": {},
   "outputs": [],
   "source": []
  }
 ],
 "metadata": {
  "kernelspec": {
   "display_name": "Python 3",
   "language": "python",
   "name": "python3"
  },
  "language_info": {
   "codemirror_mode": {
    "name": "ipython",
    "version": 3
   },
   "file_extension": ".py",
   "mimetype": "text/x-python",
   "name": "python",
   "nbconvert_exporter": "python",
   "pygments_lexer": "ipython3",
   "version": "3.6.3"
  }
 },
 "nbformat": 4,
 "nbformat_minor": 2
}
